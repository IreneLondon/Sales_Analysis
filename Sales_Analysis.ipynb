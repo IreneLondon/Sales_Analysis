{
 "cells": [
  {
   "cell_type": "markdown",
   "id": "fbb53619",
   "metadata": {},
   "source": [
    "### Problem Statement\n",
    "A multinational retail company decides to embark on a campaign called 'Operation Increase Sales and Profit' (OISP) which focuses on increasing the sales of the company and maximising profit.\n",
    "\n",
    "Before the management team of the company can take any actionable decision with regards to the campaign,they want to draw the necessary insight from their 'sitting data'. These data contains their four years daily sales records.\n",
    "\n",
    "### Objectives\n",
    "The project objectives are;\n",
    "\n",
    "Analyse the data and advise management on what to do to increase sales and profit as intended in the campaign.\n",
    "\n",
    "Ask the neccessary questions and provide answers based on the data.\n",
    "\n",
    "Provide statistical summaries of the key variables considering the aim of the campaign to management.\n",
    "\n",
    "### Solution Steps\n",
    "\n",
    "**1. Library Importation** \n",
    "\n",
    "Imported the neccesary data wrangling libraries. \n",
    "\n",
    "**2. Exploratory Data Analysis(EDA) and Data Cleaning** \n",
    "\n",
    "At this stage, the data was explored using descriptive statistics and visualizations. The quality of the data was ensured by cleaning and removing columns missing more than 50% of the data and also creating new columns to aid the analysis.\n",
    "Also, answered relevant questions that and find how why some anomalities are occuring in the data.\n",
    "\n",
    "**3. Conclusion And Recommendations** \n",
    "\n",
    "Here, I provide a summary on my finding and advice the management on what can be done to improve sales and profit."
   ]
  },
  {
   "cell_type": "code",
   "execution_count": 1,
   "id": "cd9c4929",
   "metadata": {},
   "outputs": [],
   "source": [
    "# importing libaries\n",
    "\n",
    "import pandas as pd\n",
    "import numpy as np\n",
    "import matplotlib.pyplot as plt\n",
    "import seaborn as sns\n",
    "\n",
    "%matplotlib inline\n",
    "\n",
    "#displaying all columns in the data set(No truncation when data is called by head())\n",
    "pd.set_option('display.max_colwidth', None) \n",
    "pd.set_option('display.max_columns', None)\n",
    "\n",
    "# setting style and palette for seaborn plots\n",
    "# sns.set_style('darkgrid')\n",
    "# sns.set_palette('ocean')\n",
    "# sns.set_context('notebook')"
   ]
  },
  {
   "cell_type": "markdown",
   "id": "49b56f85",
   "metadata": {},
   "source": [
    "### EDA"
   ]
  },
  {
   "cell_type": "code",
   "execution_count": 2,
   "id": "617aa300",
   "metadata": {
    "scrolled": true
   },
   "outputs": [
    {
     "data": {
      "text/html": [
       "<div>\n",
       "<style scoped>\n",
       "    .dataframe tbody tr th:only-of-type {\n",
       "        vertical-align: middle;\n",
       "    }\n",
       "\n",
       "    .dataframe tbody tr th {\n",
       "        vertical-align: top;\n",
       "    }\n",
       "\n",
       "    .dataframe thead th {\n",
       "        text-align: right;\n",
       "    }\n",
       "</style>\n",
       "<table border=\"1\" class=\"dataframe\">\n",
       "  <thead>\n",
       "    <tr style=\"text-align: right;\">\n",
       "      <th></th>\n",
       "      <th>Row ID</th>\n",
       "      <th>Order ID</th>\n",
       "      <th>Order Date</th>\n",
       "      <th>Ship Date</th>\n",
       "      <th>Ship Mode</th>\n",
       "      <th>Customer ID</th>\n",
       "      <th>Customer Name</th>\n",
       "      <th>Segment</th>\n",
       "      <th>City</th>\n",
       "      <th>State</th>\n",
       "      <th>Country</th>\n",
       "      <th>Postal Code</th>\n",
       "      <th>Market</th>\n",
       "      <th>Region</th>\n",
       "      <th>Product ID</th>\n",
       "      <th>Category</th>\n",
       "      <th>Sub-Category</th>\n",
       "      <th>Product Name</th>\n",
       "      <th>Sales</th>\n",
       "      <th>Quantity</th>\n",
       "      <th>Discount</th>\n",
       "      <th>Profit</th>\n",
       "      <th>Shipping Cost</th>\n",
       "      <th>Order Priority</th>\n",
       "    </tr>\n",
       "  </thead>\n",
       "  <tbody>\n",
       "    <tr>\n",
       "      <th>0</th>\n",
       "      <td>42433</td>\n",
       "      <td>AG-2011-2040</td>\n",
       "      <td>2011-01-01</td>\n",
       "      <td>2011-06-01</td>\n",
       "      <td>Standard Class</td>\n",
       "      <td>TB-11280</td>\n",
       "      <td>Toby Braunhardt</td>\n",
       "      <td>Consumer</td>\n",
       "      <td>Constantine</td>\n",
       "      <td>Constantine</td>\n",
       "      <td>Algeria</td>\n",
       "      <td>NaN</td>\n",
       "      <td>Africa</td>\n",
       "      <td>Africa</td>\n",
       "      <td>OFF-TEN-10000025</td>\n",
       "      <td>Office Supplies</td>\n",
       "      <td>Storage</td>\n",
       "      <td>Tenex Lockers, Blue</td>\n",
       "      <td>408.300</td>\n",
       "      <td>2</td>\n",
       "      <td>0.0</td>\n",
       "      <td>106.140</td>\n",
       "      <td>35.46</td>\n",
       "      <td>Medium</td>\n",
       "    </tr>\n",
       "    <tr>\n",
       "      <th>1</th>\n",
       "      <td>22253</td>\n",
       "      <td>IN-2011-47883</td>\n",
       "      <td>2011-01-01</td>\n",
       "      <td>2011-08-01</td>\n",
       "      <td>Standard Class</td>\n",
       "      <td>JH-15985</td>\n",
       "      <td>Joseph Holt</td>\n",
       "      <td>Consumer</td>\n",
       "      <td>Wagga Wagga</td>\n",
       "      <td>New South Wales</td>\n",
       "      <td>Australia</td>\n",
       "      <td>NaN</td>\n",
       "      <td>APAC</td>\n",
       "      <td>Oceania</td>\n",
       "      <td>OFF-SU-10000618</td>\n",
       "      <td>Office Supplies</td>\n",
       "      <td>Supplies</td>\n",
       "      <td>Acme Trimmer, High Speed</td>\n",
       "      <td>120.366</td>\n",
       "      <td>3</td>\n",
       "      <td>0.1</td>\n",
       "      <td>36.036</td>\n",
       "      <td>9.72</td>\n",
       "      <td>Medium</td>\n",
       "    </tr>\n",
       "    <tr>\n",
       "      <th>2</th>\n",
       "      <td>48883</td>\n",
       "      <td>HU-2011-1220</td>\n",
       "      <td>2011-01-01</td>\n",
       "      <td>2011-05-01</td>\n",
       "      <td>Second Class</td>\n",
       "      <td>AT-735</td>\n",
       "      <td>Annie Thurman</td>\n",
       "      <td>Consumer</td>\n",
       "      <td>Budapest</td>\n",
       "      <td>Budapest</td>\n",
       "      <td>Hungary</td>\n",
       "      <td>NaN</td>\n",
       "      <td>EMEA</td>\n",
       "      <td>EMEA</td>\n",
       "      <td>OFF-TEN-10001585</td>\n",
       "      <td>Office Supplies</td>\n",
       "      <td>Storage</td>\n",
       "      <td>Tenex Box, Single Width</td>\n",
       "      <td>66.120</td>\n",
       "      <td>4</td>\n",
       "      <td>0.0</td>\n",
       "      <td>29.640</td>\n",
       "      <td>8.17</td>\n",
       "      <td>High</td>\n",
       "    </tr>\n",
       "    <tr>\n",
       "      <th>3</th>\n",
       "      <td>11731</td>\n",
       "      <td>IT-2011-3647632</td>\n",
       "      <td>2011-01-01</td>\n",
       "      <td>2011-05-01</td>\n",
       "      <td>Second Class</td>\n",
       "      <td>EM-14140</td>\n",
       "      <td>Eugene Moren</td>\n",
       "      <td>Home Office</td>\n",
       "      <td>Stockholm</td>\n",
       "      <td>Stockholm</td>\n",
       "      <td>Sweden</td>\n",
       "      <td>NaN</td>\n",
       "      <td>EU</td>\n",
       "      <td>North</td>\n",
       "      <td>OFF-PA-10001492</td>\n",
       "      <td>Office Supplies</td>\n",
       "      <td>Paper</td>\n",
       "      <td>Enermax Note Cards, Premium</td>\n",
       "      <td>44.865</td>\n",
       "      <td>3</td>\n",
       "      <td>0.5</td>\n",
       "      <td>-26.055</td>\n",
       "      <td>4.82</td>\n",
       "      <td>High</td>\n",
       "    </tr>\n",
       "    <tr>\n",
       "      <th>4</th>\n",
       "      <td>22255</td>\n",
       "      <td>IN-2011-47883</td>\n",
       "      <td>2011-01-01</td>\n",
       "      <td>2011-08-01</td>\n",
       "      <td>Standard Class</td>\n",
       "      <td>JH-15985</td>\n",
       "      <td>Joseph Holt</td>\n",
       "      <td>Consumer</td>\n",
       "      <td>Wagga Wagga</td>\n",
       "      <td>New South Wales</td>\n",
       "      <td>Australia</td>\n",
       "      <td>NaN</td>\n",
       "      <td>APAC</td>\n",
       "      <td>Oceania</td>\n",
       "      <td>FUR-FU-10003447</td>\n",
       "      <td>Furniture</td>\n",
       "      <td>Furnishings</td>\n",
       "      <td>Eldon Light Bulb, Duo Pack</td>\n",
       "      <td>113.670</td>\n",
       "      <td>5</td>\n",
       "      <td>0.1</td>\n",
       "      <td>37.770</td>\n",
       "      <td>4.70</td>\n",
       "      <td>Medium</td>\n",
       "    </tr>\n",
       "  </tbody>\n",
       "</table>\n",
       "</div>"
      ],
      "text/plain": [
       "   Row ID         Order ID Order Date  Ship Date       Ship Mode Customer ID  \\\n",
       "0   42433     AG-2011-2040 2011-01-01 2011-06-01  Standard Class    TB-11280   \n",
       "1   22253    IN-2011-47883 2011-01-01 2011-08-01  Standard Class    JH-15985   \n",
       "2   48883     HU-2011-1220 2011-01-01 2011-05-01    Second Class      AT-735   \n",
       "3   11731  IT-2011-3647632 2011-01-01 2011-05-01    Second Class    EM-14140   \n",
       "4   22255    IN-2011-47883 2011-01-01 2011-08-01  Standard Class    JH-15985   \n",
       "\n",
       "     Customer Name      Segment         City            State    Country  \\\n",
       "0  Toby Braunhardt     Consumer  Constantine      Constantine    Algeria   \n",
       "1      Joseph Holt     Consumer  Wagga Wagga  New South Wales  Australia   \n",
       "2    Annie Thurman     Consumer     Budapest         Budapest    Hungary   \n",
       "3     Eugene Moren  Home Office    Stockholm        Stockholm     Sweden   \n",
       "4      Joseph Holt     Consumer  Wagga Wagga  New South Wales  Australia   \n",
       "\n",
       "   Postal Code  Market   Region        Product ID         Category  \\\n",
       "0          NaN  Africa   Africa  OFF-TEN-10000025  Office Supplies   \n",
       "1          NaN    APAC  Oceania   OFF-SU-10000618  Office Supplies   \n",
       "2          NaN    EMEA     EMEA  OFF-TEN-10001585  Office Supplies   \n",
       "3          NaN      EU    North   OFF-PA-10001492  Office Supplies   \n",
       "4          NaN    APAC  Oceania   FUR-FU-10003447        Furniture   \n",
       "\n",
       "  Sub-Category                 Product Name    Sales  Quantity  Discount  \\\n",
       "0      Storage          Tenex Lockers, Blue  408.300         2       0.0   \n",
       "1     Supplies     Acme Trimmer, High Speed  120.366         3       0.1   \n",
       "2      Storage      Tenex Box, Single Width   66.120         4       0.0   \n",
       "3        Paper  Enermax Note Cards, Premium   44.865         3       0.5   \n",
       "4  Furnishings   Eldon Light Bulb, Duo Pack  113.670         5       0.1   \n",
       "\n",
       "    Profit  Shipping Cost Order Priority  \n",
       "0  106.140          35.46         Medium  \n",
       "1   36.036           9.72         Medium  \n",
       "2   29.640           8.17           High  \n",
       "3  -26.055           4.82           High  \n",
       "4   37.770           4.70         Medium  "
      ]
     },
     "execution_count": 2,
     "metadata": {},
     "output_type": "execute_result"
    }
   ],
   "source": [
    "# reading data\n",
    "\n",
    "super_df= pd.read_csv('superstore data.csv',parse_dates =['Order Date','Ship Date'], encoding = 'latin1')\n",
    "super_df.head(5)"
   ]
  },
  {
   "cell_type": "code",
   "execution_count": 3,
   "id": "929881e6",
   "metadata": {},
   "outputs": [
    {
     "data": {
      "text/plain": [
       "(51290, 24)"
      ]
     },
     "execution_count": 3,
     "metadata": {},
     "output_type": "execute_result"
    }
   ],
   "source": [
    "# rows and columns of data\n",
    "\n",
    "super_df.shape"
   ]
  },
  {
   "cell_type": "code",
   "execution_count": 4,
   "id": "a944d071",
   "metadata": {},
   "outputs": [
    {
     "name": "stdout",
     "output_type": "stream",
     "text": [
      "<class 'pandas.core.frame.DataFrame'>\n",
      "RangeIndex: 51290 entries, 0 to 51289\n",
      "Data columns (total 24 columns):\n",
      " #   Column          Non-Null Count  Dtype         \n",
      "---  ------          --------------  -----         \n",
      " 0   Row ID          51290 non-null  int64         \n",
      " 1   Order ID        51290 non-null  object        \n",
      " 2   Order Date      51290 non-null  datetime64[ns]\n",
      " 3   Ship Date       51290 non-null  datetime64[ns]\n",
      " 4   Ship Mode       51290 non-null  object        \n",
      " 5   Customer ID     51290 non-null  object        \n",
      " 6   Customer Name   51290 non-null  object        \n",
      " 7   Segment         51290 non-null  object        \n",
      " 8   City            51290 non-null  object        \n",
      " 9   State           51290 non-null  object        \n",
      " 10  Country         51290 non-null  object        \n",
      " 11  Postal Code     9994 non-null   float64       \n",
      " 12  Market          51290 non-null  object        \n",
      " 13  Region          51290 non-null  object        \n",
      " 14  Product ID      51290 non-null  object        \n",
      " 15  Category        51290 non-null  object        \n",
      " 16  Sub-Category    51290 non-null  object        \n",
      " 17  Product Name    51290 non-null  object        \n",
      " 18  Sales           51290 non-null  float64       \n",
      " 19  Quantity        51290 non-null  int64         \n",
      " 20  Discount        51290 non-null  float64       \n",
      " 21  Profit          51290 non-null  float64       \n",
      " 22  Shipping Cost   51290 non-null  float64       \n",
      " 23  Order Priority  51290 non-null  object        \n",
      "dtypes: datetime64[ns](2), float64(5), int64(2), object(15)\n",
      "memory usage: 9.4+ MB\n"
     ]
    }
   ],
   "source": [
    "# finding datatypes and non null values in each column\n",
    "\n",
    "super_df.info()"
   ]
  },
  {
   "cell_type": "code",
   "execution_count": 5,
   "id": "23087c04",
   "metadata": {
    "scrolled": true
   },
   "outputs": [
    {
     "data": {
      "text/plain": [
       "Row ID                0\n",
       "Order ID              0\n",
       "Order Date            0\n",
       "Ship Date             0\n",
       "Ship Mode             0\n",
       "Customer ID           0\n",
       "Customer Name         0\n",
       "Segment               0\n",
       "City                  0\n",
       "State                 0\n",
       "Country               0\n",
       "Postal Code       41296\n",
       "Market                0\n",
       "Region                0\n",
       "Product ID            0\n",
       "Category              0\n",
       "Sub-Category          0\n",
       "Product Name          0\n",
       "Sales                 0\n",
       "Quantity              0\n",
       "Discount              0\n",
       "Profit                0\n",
       "Shipping Cost         0\n",
       "Order Priority        0\n",
       "dtype: int64"
      ]
     },
     "execution_count": 5,
     "metadata": {},
     "output_type": "execute_result"
    }
   ],
   "source": [
    "# finding number of null values in each column\n",
    "\n",
    "super_df.isnull().sum()"
   ]
  },
  {
   "cell_type": "code",
   "execution_count": 6,
   "id": "989069c1",
   "metadata": {},
   "outputs": [
    {
     "name": "stdout",
     "output_type": "stream",
     "text": [
      "number of columns before dropping 24\n",
      "number of columns after dropping 22\n"
     ]
    }
   ],
   "source": [
    "# Dropping Columns\n",
    "\n",
    "print(f\"number of columns before dropping {super_df.shape[1]}\")\n",
    "super_df.drop([\"Row ID\",\"Postal Code\"],axis=1,inplace=True)\n",
    "print(f\"number of columns after dropping {super_df.shape[1]}\")"
   ]
  },
  {
   "cell_type": "code",
   "execution_count": 7,
   "id": "e98d7c60",
   "metadata": {},
   "outputs": [
    {
     "name": "stdout",
     "output_type": "stream",
     "text": [
      "Order ID\n",
      "Order Date\n",
      "Ship Date\n",
      "Ship Mode\n",
      "Customer ID\n",
      "Customer Name\n",
      "Segment\n",
      "City\n",
      "State\n",
      "Country\n",
      "Market\n",
      "Region\n",
      "Product ID\n",
      "Category\n",
      "Sub-Category\n",
      "Product Name\n",
      "Sales\n",
      "Quantity\n",
      "Discount\n",
      "Profit\n",
      "Shipping Cost\n",
      "Order Priority\n"
     ]
    }
   ],
   "source": [
    "# Printing out all columns in the data\n",
    "\n",
    "for col in super_df.columns:\n",
    "    print (col)"
   ]
  },
  {
   "cell_type": "code",
   "execution_count": 8,
   "id": "22c331bf",
   "metadata": {},
   "outputs": [],
   "source": [
    "# Extracting Year and Month columns from Order Date\n",
    "\n",
    "\n",
    "super_df['Order_Month'] = super_df['Order Date'].dt.month_name() # Creating month name column\n",
    "super_df['Order_Year']= super_df['Order Date'].dt.year # Creating year column"
   ]
  },
  {
   "cell_type": "code",
   "execution_count": 9,
   "id": "cfd87ea6",
   "metadata": {},
   "outputs": [],
   "source": [
    "# Extracting Year,Month,Day columns from Ship Date\n",
    "\n",
    "super_df['Ship_Month'] = super_df['Ship Date'].dt.month_name() # Creating month name column\n",
    "super_df['Ship_Year'] = super_df['Ship Date'].dt.year  # Creating year column\n",
    "super_df['Ship_Days'] = super_df['Ship Date'].dt.day_name() # Creating day name column"
   ]
  },
  {
   "cell_type": "code",
   "execution_count": 10,
   "id": "e5478a69",
   "metadata": {
    "scrolled": true
   },
   "outputs": [
    {
     "data": {
      "text/html": [
       "<div>\n",
       "<style scoped>\n",
       "    .dataframe tbody tr th:only-of-type {\n",
       "        vertical-align: middle;\n",
       "    }\n",
       "\n",
       "    .dataframe tbody tr th {\n",
       "        vertical-align: top;\n",
       "    }\n",
       "\n",
       "    .dataframe thead th {\n",
       "        text-align: right;\n",
       "    }\n",
       "</style>\n",
       "<table border=\"1\" class=\"dataframe\">\n",
       "  <thead>\n",
       "    <tr style=\"text-align: right;\">\n",
       "      <th></th>\n",
       "      <th>Order ID</th>\n",
       "      <th>Order Date</th>\n",
       "      <th>Ship Date</th>\n",
       "      <th>Ship Mode</th>\n",
       "      <th>Customer ID</th>\n",
       "      <th>Customer Name</th>\n",
       "      <th>Segment</th>\n",
       "      <th>City</th>\n",
       "      <th>State</th>\n",
       "      <th>Country</th>\n",
       "      <th>Market</th>\n",
       "      <th>Region</th>\n",
       "      <th>Product ID</th>\n",
       "      <th>Category</th>\n",
       "      <th>Sub-Category</th>\n",
       "      <th>Product Name</th>\n",
       "      <th>Sales</th>\n",
       "      <th>Quantity</th>\n",
       "      <th>Discount</th>\n",
       "      <th>Profit</th>\n",
       "      <th>Shipping Cost</th>\n",
       "      <th>Order Priority</th>\n",
       "      <th>Order_Month</th>\n",
       "      <th>Order_Year</th>\n",
       "      <th>Ship_Month</th>\n",
       "      <th>Ship_Year</th>\n",
       "      <th>Ship_Days</th>\n",
       "    </tr>\n",
       "  </thead>\n",
       "  <tbody>\n",
       "    <tr>\n",
       "      <th>0</th>\n",
       "      <td>AG-2011-2040</td>\n",
       "      <td>2011-01-01</td>\n",
       "      <td>2011-06-01</td>\n",
       "      <td>Standard Class</td>\n",
       "      <td>TB-11280</td>\n",
       "      <td>Toby Braunhardt</td>\n",
       "      <td>Consumer</td>\n",
       "      <td>Constantine</td>\n",
       "      <td>Constantine</td>\n",
       "      <td>Algeria</td>\n",
       "      <td>Africa</td>\n",
       "      <td>Africa</td>\n",
       "      <td>OFF-TEN-10000025</td>\n",
       "      <td>Office Supplies</td>\n",
       "      <td>Storage</td>\n",
       "      <td>Tenex Lockers, Blue</td>\n",
       "      <td>408.300</td>\n",
       "      <td>2</td>\n",
       "      <td>0.0</td>\n",
       "      <td>106.1400</td>\n",
       "      <td>35.46</td>\n",
       "      <td>Medium</td>\n",
       "      <td>January</td>\n",
       "      <td>2011</td>\n",
       "      <td>June</td>\n",
       "      <td>2011</td>\n",
       "      <td>Wednesday</td>\n",
       "    </tr>\n",
       "    <tr>\n",
       "      <th>1</th>\n",
       "      <td>IN-2011-47883</td>\n",
       "      <td>2011-01-01</td>\n",
       "      <td>2011-08-01</td>\n",
       "      <td>Standard Class</td>\n",
       "      <td>JH-15985</td>\n",
       "      <td>Joseph Holt</td>\n",
       "      <td>Consumer</td>\n",
       "      <td>Wagga Wagga</td>\n",
       "      <td>New South Wales</td>\n",
       "      <td>Australia</td>\n",
       "      <td>APAC</td>\n",
       "      <td>Oceania</td>\n",
       "      <td>OFF-SU-10000618</td>\n",
       "      <td>Office Supplies</td>\n",
       "      <td>Supplies</td>\n",
       "      <td>Acme Trimmer, High Speed</td>\n",
       "      <td>120.366</td>\n",
       "      <td>3</td>\n",
       "      <td>0.1</td>\n",
       "      <td>36.0360</td>\n",
       "      <td>9.72</td>\n",
       "      <td>Medium</td>\n",
       "      <td>January</td>\n",
       "      <td>2011</td>\n",
       "      <td>August</td>\n",
       "      <td>2011</td>\n",
       "      <td>Monday</td>\n",
       "    </tr>\n",
       "    <tr>\n",
       "      <th>2</th>\n",
       "      <td>HU-2011-1220</td>\n",
       "      <td>2011-01-01</td>\n",
       "      <td>2011-05-01</td>\n",
       "      <td>Second Class</td>\n",
       "      <td>AT-735</td>\n",
       "      <td>Annie Thurman</td>\n",
       "      <td>Consumer</td>\n",
       "      <td>Budapest</td>\n",
       "      <td>Budapest</td>\n",
       "      <td>Hungary</td>\n",
       "      <td>EMEA</td>\n",
       "      <td>EMEA</td>\n",
       "      <td>OFF-TEN-10001585</td>\n",
       "      <td>Office Supplies</td>\n",
       "      <td>Storage</td>\n",
       "      <td>Tenex Box, Single Width</td>\n",
       "      <td>66.120</td>\n",
       "      <td>4</td>\n",
       "      <td>0.0</td>\n",
       "      <td>29.6400</td>\n",
       "      <td>8.17</td>\n",
       "      <td>High</td>\n",
       "      <td>January</td>\n",
       "      <td>2011</td>\n",
       "      <td>May</td>\n",
       "      <td>2011</td>\n",
       "      <td>Sunday</td>\n",
       "    </tr>\n",
       "    <tr>\n",
       "      <th>3</th>\n",
       "      <td>IT-2011-3647632</td>\n",
       "      <td>2011-01-01</td>\n",
       "      <td>2011-05-01</td>\n",
       "      <td>Second Class</td>\n",
       "      <td>EM-14140</td>\n",
       "      <td>Eugene Moren</td>\n",
       "      <td>Home Office</td>\n",
       "      <td>Stockholm</td>\n",
       "      <td>Stockholm</td>\n",
       "      <td>Sweden</td>\n",
       "      <td>EU</td>\n",
       "      <td>North</td>\n",
       "      <td>OFF-PA-10001492</td>\n",
       "      <td>Office Supplies</td>\n",
       "      <td>Paper</td>\n",
       "      <td>Enermax Note Cards, Premium</td>\n",
       "      <td>44.865</td>\n",
       "      <td>3</td>\n",
       "      <td>0.5</td>\n",
       "      <td>-26.0550</td>\n",
       "      <td>4.82</td>\n",
       "      <td>High</td>\n",
       "      <td>January</td>\n",
       "      <td>2011</td>\n",
       "      <td>May</td>\n",
       "      <td>2011</td>\n",
       "      <td>Sunday</td>\n",
       "    </tr>\n",
       "    <tr>\n",
       "      <th>4</th>\n",
       "      <td>IN-2011-47883</td>\n",
       "      <td>2011-01-01</td>\n",
       "      <td>2011-08-01</td>\n",
       "      <td>Standard Class</td>\n",
       "      <td>JH-15985</td>\n",
       "      <td>Joseph Holt</td>\n",
       "      <td>Consumer</td>\n",
       "      <td>Wagga Wagga</td>\n",
       "      <td>New South Wales</td>\n",
       "      <td>Australia</td>\n",
       "      <td>APAC</td>\n",
       "      <td>Oceania</td>\n",
       "      <td>FUR-FU-10003447</td>\n",
       "      <td>Furniture</td>\n",
       "      <td>Furnishings</td>\n",
       "      <td>Eldon Light Bulb, Duo Pack</td>\n",
       "      <td>113.670</td>\n",
       "      <td>5</td>\n",
       "      <td>0.1</td>\n",
       "      <td>37.7700</td>\n",
       "      <td>4.70</td>\n",
       "      <td>Medium</td>\n",
       "      <td>January</td>\n",
       "      <td>2011</td>\n",
       "      <td>August</td>\n",
       "      <td>2011</td>\n",
       "      <td>Monday</td>\n",
       "    </tr>\n",
       "    <tr>\n",
       "      <th>...</th>\n",
       "      <td>...</td>\n",
       "      <td>...</td>\n",
       "      <td>...</td>\n",
       "      <td>...</td>\n",
       "      <td>...</td>\n",
       "      <td>...</td>\n",
       "      <td>...</td>\n",
       "      <td>...</td>\n",
       "      <td>...</td>\n",
       "      <td>...</td>\n",
       "      <td>...</td>\n",
       "      <td>...</td>\n",
       "      <td>...</td>\n",
       "      <td>...</td>\n",
       "      <td>...</td>\n",
       "      <td>...</td>\n",
       "      <td>...</td>\n",
       "      <td>...</td>\n",
       "      <td>...</td>\n",
       "      <td>...</td>\n",
       "      <td>...</td>\n",
       "      <td>...</td>\n",
       "      <td>...</td>\n",
       "      <td>...</td>\n",
       "      <td>...</td>\n",
       "      <td>...</td>\n",
       "      <td>...</td>\n",
       "    </tr>\n",
       "    <tr>\n",
       "      <th>51285</th>\n",
       "      <td>CA-2014-115427</td>\n",
       "      <td>2014-12-31</td>\n",
       "      <td>2015-04-01</td>\n",
       "      <td>Standard Class</td>\n",
       "      <td>EB-13975</td>\n",
       "      <td>Erica Bern</td>\n",
       "      <td>Corporate</td>\n",
       "      <td>Fairfield</td>\n",
       "      <td>California</td>\n",
       "      <td>United States</td>\n",
       "      <td>US</td>\n",
       "      <td>West</td>\n",
       "      <td>OFF-BI-10002103</td>\n",
       "      <td>Office Supplies</td>\n",
       "      <td>Binders</td>\n",
       "      <td>Cardinal Slant-D Ring Binder, Heavy Gauge Vinyl</td>\n",
       "      <td>13.904</td>\n",
       "      <td>2</td>\n",
       "      <td>0.2</td>\n",
       "      <td>4.5188</td>\n",
       "      <td>0.89</td>\n",
       "      <td>Medium</td>\n",
       "      <td>December</td>\n",
       "      <td>2014</td>\n",
       "      <td>April</td>\n",
       "      <td>2015</td>\n",
       "      <td>Wednesday</td>\n",
       "    </tr>\n",
       "    <tr>\n",
       "      <th>51286</th>\n",
       "      <td>MO-2014-2560</td>\n",
       "      <td>2014-12-31</td>\n",
       "      <td>2015-05-01</td>\n",
       "      <td>Standard Class</td>\n",
       "      <td>LP-7095</td>\n",
       "      <td>Liz Preis</td>\n",
       "      <td>Consumer</td>\n",
       "      <td>Agadir</td>\n",
       "      <td>Souss-Massa-Draâ</td>\n",
       "      <td>Morocco</td>\n",
       "      <td>Africa</td>\n",
       "      <td>Africa</td>\n",
       "      <td>OFF-WIL-10001069</td>\n",
       "      <td>Office Supplies</td>\n",
       "      <td>Binders</td>\n",
       "      <td>Wilson Jones Hole Reinforcements, Clear</td>\n",
       "      <td>3.990</td>\n",
       "      <td>1</td>\n",
       "      <td>0.0</td>\n",
       "      <td>0.4200</td>\n",
       "      <td>0.49</td>\n",
       "      <td>Medium</td>\n",
       "      <td>December</td>\n",
       "      <td>2014</td>\n",
       "      <td>May</td>\n",
       "      <td>2015</td>\n",
       "      <td>Friday</td>\n",
       "    </tr>\n",
       "    <tr>\n",
       "      <th>51287</th>\n",
       "      <td>MX-2014-110527</td>\n",
       "      <td>2014-12-31</td>\n",
       "      <td>2015-02-01</td>\n",
       "      <td>Second Class</td>\n",
       "      <td>CM-12190</td>\n",
       "      <td>Charlotte Melton</td>\n",
       "      <td>Consumer</td>\n",
       "      <td>Managua</td>\n",
       "      <td>Managua</td>\n",
       "      <td>Nicaragua</td>\n",
       "      <td>LATAM</td>\n",
       "      <td>Central</td>\n",
       "      <td>OFF-LA-10004182</td>\n",
       "      <td>Office Supplies</td>\n",
       "      <td>Labels</td>\n",
       "      <td>Hon Color Coded Labels, 5000 Label Set</td>\n",
       "      <td>26.400</td>\n",
       "      <td>3</td>\n",
       "      <td>0.0</td>\n",
       "      <td>12.3600</td>\n",
       "      <td>0.35</td>\n",
       "      <td>Medium</td>\n",
       "      <td>December</td>\n",
       "      <td>2014</td>\n",
       "      <td>February</td>\n",
       "      <td>2015</td>\n",
       "      <td>Sunday</td>\n",
       "    </tr>\n",
       "    <tr>\n",
       "      <th>51288</th>\n",
       "      <td>MX-2014-114783</td>\n",
       "      <td>2014-12-31</td>\n",
       "      <td>2015-06-01</td>\n",
       "      <td>Standard Class</td>\n",
       "      <td>TD-20995</td>\n",
       "      <td>Tamara Dahlen</td>\n",
       "      <td>Consumer</td>\n",
       "      <td>Juárez</td>\n",
       "      <td>Chihuahua</td>\n",
       "      <td>Mexico</td>\n",
       "      <td>LATAM</td>\n",
       "      <td>North</td>\n",
       "      <td>OFF-LA-10000413</td>\n",
       "      <td>Office Supplies</td>\n",
       "      <td>Labels</td>\n",
       "      <td>Hon Legal Exhibit Labels, Alphabetical</td>\n",
       "      <td>7.120</td>\n",
       "      <td>1</td>\n",
       "      <td>0.0</td>\n",
       "      <td>0.5600</td>\n",
       "      <td>0.20</td>\n",
       "      <td>Medium</td>\n",
       "      <td>December</td>\n",
       "      <td>2014</td>\n",
       "      <td>June</td>\n",
       "      <td>2015</td>\n",
       "      <td>Monday</td>\n",
       "    </tr>\n",
       "    <tr>\n",
       "      <th>51289</th>\n",
       "      <td>CA-2014-156720</td>\n",
       "      <td>2014-12-31</td>\n",
       "      <td>2015-04-01</td>\n",
       "      <td>Standard Class</td>\n",
       "      <td>JM-15580</td>\n",
       "      <td>Jill Matthias</td>\n",
       "      <td>Consumer</td>\n",
       "      <td>Loveland</td>\n",
       "      <td>Colorado</td>\n",
       "      <td>United States</td>\n",
       "      <td>US</td>\n",
       "      <td>West</td>\n",
       "      <td>OFF-FA-10003472</td>\n",
       "      <td>Office Supplies</td>\n",
       "      <td>Fasteners</td>\n",
       "      <td>Bagged Rubber Bands</td>\n",
       "      <td>3.024</td>\n",
       "      <td>3</td>\n",
       "      <td>0.2</td>\n",
       "      <td>-0.6048</td>\n",
       "      <td>0.17</td>\n",
       "      <td>Medium</td>\n",
       "      <td>December</td>\n",
       "      <td>2014</td>\n",
       "      <td>April</td>\n",
       "      <td>2015</td>\n",
       "      <td>Wednesday</td>\n",
       "    </tr>\n",
       "  </tbody>\n",
       "</table>\n",
       "<p>51290 rows × 27 columns</p>\n",
       "</div>"
      ],
      "text/plain": [
       "              Order ID Order Date  Ship Date       Ship Mode Customer ID  \\\n",
       "0         AG-2011-2040 2011-01-01 2011-06-01  Standard Class    TB-11280   \n",
       "1        IN-2011-47883 2011-01-01 2011-08-01  Standard Class    JH-15985   \n",
       "2         HU-2011-1220 2011-01-01 2011-05-01    Second Class      AT-735   \n",
       "3      IT-2011-3647632 2011-01-01 2011-05-01    Second Class    EM-14140   \n",
       "4        IN-2011-47883 2011-01-01 2011-08-01  Standard Class    JH-15985   \n",
       "...                ...        ...        ...             ...         ...   \n",
       "51285   CA-2014-115427 2014-12-31 2015-04-01  Standard Class    EB-13975   \n",
       "51286     MO-2014-2560 2014-12-31 2015-05-01  Standard Class     LP-7095   \n",
       "51287   MX-2014-110527 2014-12-31 2015-02-01    Second Class    CM-12190   \n",
       "51288   MX-2014-114783 2014-12-31 2015-06-01  Standard Class    TD-20995   \n",
       "51289   CA-2014-156720 2014-12-31 2015-04-01  Standard Class    JM-15580   \n",
       "\n",
       "          Customer Name      Segment         City             State  \\\n",
       "0       Toby Braunhardt     Consumer  Constantine       Constantine   \n",
       "1           Joseph Holt     Consumer  Wagga Wagga   New South Wales   \n",
       "2         Annie Thurman     Consumer     Budapest          Budapest   \n",
       "3          Eugene Moren  Home Office    Stockholm         Stockholm   \n",
       "4           Joseph Holt     Consumer  Wagga Wagga   New South Wales   \n",
       "...                 ...          ...          ...               ...   \n",
       "51285        Erica Bern    Corporate    Fairfield        California   \n",
       "51286         Liz Preis     Consumer       Agadir  Souss-Massa-Draâ   \n",
       "51287  Charlotte Melton     Consumer      Managua           Managua   \n",
       "51288     Tamara Dahlen     Consumer       Juárez         Chihuahua   \n",
       "51289     Jill Matthias     Consumer     Loveland          Colorado   \n",
       "\n",
       "             Country  Market   Region        Product ID         Category  \\\n",
       "0            Algeria  Africa   Africa  OFF-TEN-10000025  Office Supplies   \n",
       "1          Australia    APAC  Oceania   OFF-SU-10000618  Office Supplies   \n",
       "2            Hungary    EMEA     EMEA  OFF-TEN-10001585  Office Supplies   \n",
       "3             Sweden      EU    North   OFF-PA-10001492  Office Supplies   \n",
       "4          Australia    APAC  Oceania   FUR-FU-10003447        Furniture   \n",
       "...              ...     ...      ...               ...              ...   \n",
       "51285  United States      US     West   OFF-BI-10002103  Office Supplies   \n",
       "51286        Morocco  Africa   Africa  OFF-WIL-10001069  Office Supplies   \n",
       "51287      Nicaragua   LATAM  Central   OFF-LA-10004182  Office Supplies   \n",
       "51288         Mexico   LATAM    North   OFF-LA-10000413  Office Supplies   \n",
       "51289  United States      US     West   OFF-FA-10003472  Office Supplies   \n",
       "\n",
       "      Sub-Category                                     Product Name    Sales  \\\n",
       "0          Storage                              Tenex Lockers, Blue  408.300   \n",
       "1         Supplies                         Acme Trimmer, High Speed  120.366   \n",
       "2          Storage                          Tenex Box, Single Width   66.120   \n",
       "3            Paper                      Enermax Note Cards, Premium   44.865   \n",
       "4      Furnishings                       Eldon Light Bulb, Duo Pack  113.670   \n",
       "...            ...                                              ...      ...   \n",
       "51285      Binders  Cardinal Slant-D Ring Binder, Heavy Gauge Vinyl   13.904   \n",
       "51286      Binders          Wilson Jones Hole Reinforcements, Clear    3.990   \n",
       "51287       Labels           Hon Color Coded Labels, 5000 Label Set   26.400   \n",
       "51288       Labels           Hon Legal Exhibit Labels, Alphabetical    7.120   \n",
       "51289    Fasteners                              Bagged Rubber Bands    3.024   \n",
       "\n",
       "       Quantity  Discount    Profit  Shipping Cost Order Priority Order_Month  \\\n",
       "0             2       0.0  106.1400          35.46         Medium     January   \n",
       "1             3       0.1   36.0360           9.72         Medium     January   \n",
       "2             4       0.0   29.6400           8.17           High     January   \n",
       "3             3       0.5  -26.0550           4.82           High     January   \n",
       "4             5       0.1   37.7700           4.70         Medium     January   \n",
       "...         ...       ...       ...            ...            ...         ...   \n",
       "51285         2       0.2    4.5188           0.89         Medium    December   \n",
       "51286         1       0.0    0.4200           0.49         Medium    December   \n",
       "51287         3       0.0   12.3600           0.35         Medium    December   \n",
       "51288         1       0.0    0.5600           0.20         Medium    December   \n",
       "51289         3       0.2   -0.6048           0.17         Medium    December   \n",
       "\n",
       "       Order_Year Ship_Month  Ship_Year  Ship_Days  \n",
       "0            2011       June       2011  Wednesday  \n",
       "1            2011     August       2011     Monday  \n",
       "2            2011        May       2011     Sunday  \n",
       "3            2011        May       2011     Sunday  \n",
       "4            2011     August       2011     Monday  \n",
       "...           ...        ...        ...        ...  \n",
       "51285        2014      April       2015  Wednesday  \n",
       "51286        2014        May       2015     Friday  \n",
       "51287        2014   February       2015     Sunday  \n",
       "51288        2014       June       2015     Monday  \n",
       "51289        2014      April       2015  Wednesday  \n",
       "\n",
       "[51290 rows x 27 columns]"
      ]
     },
     "execution_count": 10,
     "metadata": {},
     "output_type": "execute_result"
    }
   ],
   "source": [
    "# checking for new columns created\n",
    "super_df"
   ]
  },
  {
   "cell_type": "markdown",
   "id": "abb718cc",
   "metadata": {},
   "source": [
    "**From the above, It is noticed delivery varies from time to time regardless the ship mode. Delivery, that is ship date is usually months apart from the order dates**"
   ]
  },
  {
   "cell_type": "code",
   "execution_count": 11,
   "id": "2676a15b",
   "metadata": {
    "scrolled": true
   },
   "outputs": [
    {
     "data": {
      "text/html": [
       "<div>\n",
       "<style scoped>\n",
       "    .dataframe tbody tr th:only-of-type {\n",
       "        vertical-align: middle;\n",
       "    }\n",
       "\n",
       "    .dataframe tbody tr th {\n",
       "        vertical-align: top;\n",
       "    }\n",
       "\n",
       "    .dataframe thead th {\n",
       "        text-align: right;\n",
       "    }\n",
       "</style>\n",
       "<table border=\"1\" class=\"dataframe\">\n",
       "  <thead>\n",
       "    <tr style=\"text-align: right;\">\n",
       "      <th></th>\n",
       "      <th>Sales</th>\n",
       "      <th>Quantity</th>\n",
       "      <th>Discount</th>\n",
       "      <th>Profit</th>\n",
       "      <th>Shipping Cost</th>\n",
       "      <th>Order_Year</th>\n",
       "      <th>Ship_Year</th>\n",
       "    </tr>\n",
       "  </thead>\n",
       "  <tbody>\n",
       "    <tr>\n",
       "      <th>count</th>\n",
       "      <td>51290.000000</td>\n",
       "      <td>51290.000000</td>\n",
       "      <td>51290.000000</td>\n",
       "      <td>51290.000000</td>\n",
       "      <td>51290.000000</td>\n",
       "      <td>51290.000000</td>\n",
       "      <td>51290.000000</td>\n",
       "    </tr>\n",
       "    <tr>\n",
       "      <th>mean</th>\n",
       "      <td>246.490581</td>\n",
       "      <td>3.476545</td>\n",
       "      <td>0.142908</td>\n",
       "      <td>28.610982</td>\n",
       "      <td>26.375915</td>\n",
       "      <td>2012.777208</td>\n",
       "      <td>2012.792728</td>\n",
       "    </tr>\n",
       "    <tr>\n",
       "      <th>std</th>\n",
       "      <td>487.565361</td>\n",
       "      <td>2.278766</td>\n",
       "      <td>0.212280</td>\n",
       "      <td>174.340972</td>\n",
       "      <td>57.296804</td>\n",
       "      <td>1.098931</td>\n",
       "      <td>1.105303</td>\n",
       "    </tr>\n",
       "    <tr>\n",
       "      <th>min</th>\n",
       "      <td>0.444000</td>\n",
       "      <td>1.000000</td>\n",
       "      <td>0.000000</td>\n",
       "      <td>-6599.978000</td>\n",
       "      <td>0.000000</td>\n",
       "      <td>2011.000000</td>\n",
       "      <td>2011.000000</td>\n",
       "    </tr>\n",
       "    <tr>\n",
       "      <th>25%</th>\n",
       "      <td>30.758625</td>\n",
       "      <td>2.000000</td>\n",
       "      <td>0.000000</td>\n",
       "      <td>0.000000</td>\n",
       "      <td>2.610000</td>\n",
       "      <td>2012.000000</td>\n",
       "      <td>2012.000000</td>\n",
       "    </tr>\n",
       "    <tr>\n",
       "      <th>50%</th>\n",
       "      <td>85.053000</td>\n",
       "      <td>3.000000</td>\n",
       "      <td>0.000000</td>\n",
       "      <td>9.240000</td>\n",
       "      <td>7.790000</td>\n",
       "      <td>2013.000000</td>\n",
       "      <td>2013.000000</td>\n",
       "    </tr>\n",
       "    <tr>\n",
       "      <th>75%</th>\n",
       "      <td>251.053200</td>\n",
       "      <td>5.000000</td>\n",
       "      <td>0.200000</td>\n",
       "      <td>36.810000</td>\n",
       "      <td>24.450000</td>\n",
       "      <td>2014.000000</td>\n",
       "      <td>2014.000000</td>\n",
       "    </tr>\n",
       "    <tr>\n",
       "      <th>max</th>\n",
       "      <td>22638.480000</td>\n",
       "      <td>14.000000</td>\n",
       "      <td>0.850000</td>\n",
       "      <td>8399.976000</td>\n",
       "      <td>933.570000</td>\n",
       "      <td>2014.000000</td>\n",
       "      <td>2015.000000</td>\n",
       "    </tr>\n",
       "  </tbody>\n",
       "</table>\n",
       "</div>"
      ],
      "text/plain": [
       "              Sales      Quantity      Discount        Profit  Shipping Cost  \\\n",
       "count  51290.000000  51290.000000  51290.000000  51290.000000   51290.000000   \n",
       "mean     246.490581      3.476545      0.142908     28.610982      26.375915   \n",
       "std      487.565361      2.278766      0.212280    174.340972      57.296804   \n",
       "min        0.444000      1.000000      0.000000  -6599.978000       0.000000   \n",
       "25%       30.758625      2.000000      0.000000      0.000000       2.610000   \n",
       "50%       85.053000      3.000000      0.000000      9.240000       7.790000   \n",
       "75%      251.053200      5.000000      0.200000     36.810000      24.450000   \n",
       "max    22638.480000     14.000000      0.850000   8399.976000     933.570000   \n",
       "\n",
       "         Order_Year     Ship_Year  \n",
       "count  51290.000000  51290.000000  \n",
       "mean    2012.777208   2012.792728  \n",
       "std        1.098931      1.105303  \n",
       "min     2011.000000   2011.000000  \n",
       "25%     2012.000000   2012.000000  \n",
       "50%     2013.000000   2013.000000  \n",
       "75%     2014.000000   2014.000000  \n",
       "max     2014.000000   2015.000000  "
      ]
     },
     "execution_count": 11,
     "metadata": {},
     "output_type": "execute_result"
    }
   ],
   "source": [
    "# Statistical summary of numeric columns of the data\n",
    "\n",
    "super_df.describe()"
   ]
  },
  {
   "cell_type": "markdown",
   "id": "59084000",
   "metadata": {},
   "source": [
    "**OBSERVATIONS** \n",
    "\n",
    "The above contains the statistical description of all numerical columns in the dataset. \n",
    "\n",
    "Sales records a minimum of 0.44 and a max of 22638.48approx.  \n",
    "\n",
    "Also, the min price of a product is 0.99 with max at 7546.16approx. \n",
    "\n",
    "Not to mention the company running at a loss with a minimum profit of -6599.99approx.\n"
   ]
  },
  {
   "cell_type": "markdown",
   "id": "bf129103",
   "metadata": {},
   "source": [
    "#### Finding the value counts of various columns "
   ]
  },
  {
   "cell_type": "code",
   "execution_count": 12,
   "id": "e5215aa9",
   "metadata": {
    "scrolled": true
   },
   "outputs": [
    {
     "data": {
      "text/plain": [
       "Standard Class    30775\n",
       "Second Class      10309\n",
       "First Class        7505\n",
       "Same Day           2701\n",
       "Name: Ship Mode, dtype: int64"
      ]
     },
     "execution_count": 12,
     "metadata": {},
     "output_type": "execute_result"
    }
   ],
   "source": [
    "super_df['Ship Mode'].value_counts()"
   ]
  },
  {
   "cell_type": "code",
   "execution_count": 14,
   "id": "9cefe593",
   "metadata": {
    "scrolled": true
   },
   "outputs": [
    {
     "data": {
      "text/plain": [
       "United States    9994\n",
       "Australia        2837\n",
       "France           2827\n",
       "Mexico           2644\n",
       "Germany          2065\n",
       "                 ... \n",
       "Eritrea             2\n",
       "Chad                2\n",
       "Swaziland           2\n",
       "South Sudan         2\n",
       "Bahrain             2\n",
       "Name: Country, Length: 147, dtype: int64"
      ]
     },
     "execution_count": 14,
     "metadata": {},
     "output_type": "execute_result"
    }
   ],
   "source": [
    "super_df['Country'].value_counts()"
   ]
  },
  {
   "cell_type": "code",
   "execution_count": 15,
   "id": "3d170605",
   "metadata": {
    "scrolled": true
   },
   "outputs": [
    {
     "data": {
      "text/plain": [
       "APAC      11002\n",
       "LATAM     10294\n",
       "EU        10000\n",
       "US         9994\n",
       "EMEA       5029\n",
       "Africa     4587\n",
       "Canada      384\n",
       "Name: Market, dtype: int64"
      ]
     },
     "execution_count": 15,
     "metadata": {},
     "output_type": "execute_result"
    }
   ],
   "source": [
    "super_df['Market'].value_counts()"
   ]
  },
  {
   "cell_type": "code",
   "execution_count": 16,
   "id": "cda10cb4",
   "metadata": {},
   "outputs": [
    {
     "data": {
      "image/png": "[encoded data removed]",
      "text/plain": [
       "<Figure size 432x288 with 1 Axes>"
      ]
     },
     "metadata": {
      "needs_background": "light"
     },
     "output_type": "display_data"
    }
   ],
   "source": [
    "#visualizing value counts for Market\n",
    "\n",
    "super_df['Market'].value_counts().plot(kind = 'bar', title = 'Markets');"
   ]
  },
  {
   "cell_type": "code",
   "execution_count": 17,
   "id": "7bd64c07",
   "metadata": {
    "scrolled": true
   },
   "outputs": [
    {
     "data": {
      "text/plain": [
       "Central           11117\n",
       "South              6645\n",
       "EMEA               5029\n",
       "North              4785\n",
       "Africa             4587\n",
       "Oceania            3487\n",
       "West               3203\n",
       "Southeast Asia     3129\n",
       "East               2848\n",
       "North Asia         2338\n",
       "Central Asia       2048\n",
       "Caribbean          1690\n",
       "Canada              384\n",
       "Name: Region, dtype: int64"
      ]
     },
     "execution_count": 17,
     "metadata": {},
     "output_type": "execute_result"
    }
   ],
   "source": [
    "super_df['Region'].value_counts()"
   ]
  },
  {
   "attachments": {},
   "cell_type": "markdown",
   "id": "4c2bd094",
   "metadata": {},
   "source": [
    "**Observation**\n",
    "\n",
    "The store is located in 7 markets, 13 regions and 147 countries."
   ]
  },
  {
   "cell_type": "code",
   "execution_count": 13,
   "id": "7923a8b7",
   "metadata": {
    "scrolled": true
   },
   "outputs": [
    {
     "data": {
      "text/plain": [
       "Consumer       26518\n",
       "Corporate      15429\n",
       "Home Office     9343\n",
       "Name: Segment, dtype: int64"
      ]
     },
     "execution_count": 13,
     "metadata": {},
     "output_type": "execute_result"
    }
   ],
   "source": [
    "super_df['Segment'].value_counts()"
   ]
  },
  {
   "cell_type": "code",
   "execution_count": 18,
   "id": "0f5b7db2",
   "metadata": {
    "scrolled": true
   },
   "outputs": [
    {
     "data": {
      "text/plain": [
       "Office Supplies    31273\n",
       "Technology         10141\n",
       "Furniture           9876\n",
       "Name: Category, dtype: int64"
      ]
     },
     "execution_count": 18,
     "metadata": {},
     "output_type": "execute_result"
    }
   ],
   "source": [
    "super_df['Category'].value_counts()"
   ]
  },
  {
   "cell_type": "code",
   "execution_count": 19,
   "id": "37b80582",
   "metadata": {
    "scrolled": true
   },
   "outputs": [
    {
     "data": {
      "image/png": "[encoded data removed]",
      "text/plain": [
       "<Figure size 432x288 with 1 Axes>"
      ]
     },
     "metadata": {
      "needs_background": "light"
     },
     "output_type": "display_data"
    }
   ],
   "source": [
    "# visualising value counts for category\n",
    "super_df['Category'].value_counts().plot(kind = 'bar',title = 'Overall Preference Per Category' );"
   ]
  },
  {
   "cell_type": "markdown",
   "id": "2450c136",
   "metadata": {},
   "source": [
    "**Observation**\n",
    "\n",
    "The products sold by the store in the various countries are segmented as Consumer,Corporate, Home Office \n",
    "and further classified into Office Supplies, Technology and Furniture. \n"
   ]
  },
  {
   "cell_type": "code",
   "execution_count": 20,
   "id": "7670b9b3",
   "metadata": {
    "scrolled": true
   },
   "outputs": [
    {
     "data": {
      "text/plain": [
       "Binders        6152\n",
       "Storage        5059\n",
       "Art            4883\n",
       "Paper          3538\n",
       "Chairs         3434\n",
       "Phones         3357\n",
       "Furnishings    3170\n",
       "Accessories    3075\n",
       "Labels         2606\n",
       "Envelopes      2435\n",
       "Supplies       2425\n",
       "Fasteners      2420\n",
       "Bookcases      2411\n",
       "Copiers        2223\n",
       "Appliances     1755\n",
       "Machines       1486\n",
       "Tables          861\n",
       "Name: Sub-Category, dtype: int64"
      ]
     },
     "execution_count": 20,
     "metadata": {},
     "output_type": "execute_result"
    }
   ],
   "source": [
    "super_df['Sub-Category'].value_counts()"
   ]
  },
  {
   "cell_type": "code",
   "execution_count": 21,
   "id": "30d71a9b",
   "metadata": {
    "scrolled": true
   },
   "outputs": [
    {
     "data": {
      "image/png": "[encoded data removed]",
      "text/plain": [
       "<Figure size 432x288 with 1 Axes>"
      ]
     },
     "metadata": {
      "needs_background": "light"
     },
     "output_type": "display_data"
    }
   ],
   "source": [
    "# visualising value counts for sub- category\n",
    "super_df['Sub-Category'].value_counts().plot(kind = 'bar');"
   ]
  },
  {
   "cell_type": "code",
   "execution_count": 22,
   "id": "20a52c69",
   "metadata": {
    "scrolled": false
   },
   "outputs": [],
   "source": [
    "# Groupby function is used tp separate the data set to help in better analysing columns\n",
    "\n",
    "aa = super_df.groupby(by = 'Sub-Category')[['Sales']].sum().round(2).sort_values('Sales',ascending =False)"
   ]
  },
  {
   "cell_type": "code",
   "execution_count": 23,
   "id": "019b1932",
   "metadata": {
    "scrolled": true
   },
   "outputs": [
    {
     "data": {
      "image/png": "[encoded data removed]",
      "text/plain": [
       "<Figure size 432x288 with 1 Axes>"
      ]
     },
     "metadata": {
      "needs_background": "light"
     },
     "output_type": "display_data"
    }
   ],
   "source": [
    "# visualising sum of sales per category\n",
    "aa.plot(kind = 'bar', alpha = 1)\n",
    "plt.title('Sales per Sub-category')\n",
    "plt.show()"
   ]
  },
  {
   "cell_type": "markdown",
   "id": "0c2baabd",
   "metadata": {},
   "source": [
    "**Observation**\n",
    "\n",
    "From the above visual, we observe that the sub category phones has the highest sales whereas labels has the least."
   ]
  },
  {
   "cell_type": "code",
   "execution_count": 50,
   "id": "4be1c45e",
   "metadata": {
    "scrolled": true
   },
   "outputs": [
    {
     "data": {
      "text/html": [
       "<div>\n",
       "<style scoped>\n",
       "    .dataframe tbody tr th:only-of-type {\n",
       "        vertical-align: middle;\n",
       "    }\n",
       "\n",
       "    .dataframe tbody tr th {\n",
       "        vertical-align: top;\n",
       "    }\n",
       "\n",
       "    .dataframe thead th {\n",
       "        text-align: right;\n",
       "    }\n",
       "</style>\n",
       "<table border=\"1\" class=\"dataframe\">\n",
       "  <thead>\n",
       "    <tr style=\"text-align: right;\">\n",
       "      <th></th>\n",
       "      <th></th>\n",
       "      <th>Sales</th>\n",
       "    </tr>\n",
       "    <tr>\n",
       "      <th>Sub-Category</th>\n",
       "      <th>Market</th>\n",
       "      <th></th>\n",
       "    </tr>\n",
       "  </thead>\n",
       "  <tbody>\n",
       "    <tr>\n",
       "      <th>Chairs</th>\n",
       "      <th>APAC</th>\n",
       "      <td>512974.20</td>\n",
       "    </tr>\n",
       "    <tr>\n",
       "      <th>Bookcases</th>\n",
       "      <th>APAC</th>\n",
       "      <td>504823.08</td>\n",
       "    </tr>\n",
       "    <tr>\n",
       "      <th>Copiers</th>\n",
       "      <th>APAC</th>\n",
       "      <td>494593.68</td>\n",
       "    </tr>\n",
       "    <tr>\n",
       "      <th>Phones</th>\n",
       "      <th>APAC</th>\n",
       "      <td>486354.50</td>\n",
       "    </tr>\n",
       "    <tr>\n",
       "      <th>Copiers</th>\n",
       "      <th>EU</th>\n",
       "      <td>365128.61</td>\n",
       "    </tr>\n",
       "    <tr>\n",
       "      <th>...</th>\n",
       "      <th>...</th>\n",
       "      <td>...</td>\n",
       "    </tr>\n",
       "    <tr>\n",
       "      <th>Tables</th>\n",
       "      <th>Canada</th>\n",
       "      <td>849.36</td>\n",
       "    </tr>\n",
       "    <tr>\n",
       "      <th>Furnishings</th>\n",
       "      <th>Canada</th>\n",
       "      <td>808.53</td>\n",
       "    </tr>\n",
       "    <tr>\n",
       "      <th>Envelopes</th>\n",
       "      <th>Canada</th>\n",
       "      <td>567.18</td>\n",
       "    </tr>\n",
       "    <tr>\n",
       "      <th>Fasteners</th>\n",
       "      <th>Canada</th>\n",
       "      <td>479.46</td>\n",
       "    </tr>\n",
       "    <tr>\n",
       "      <th>Labels</th>\n",
       "      <th>Canada</th>\n",
       "      <td>421.74</td>\n",
       "    </tr>\n",
       "  </tbody>\n",
       "</table>\n",
       "<p>119 rows × 1 columns</p>\n",
       "</div>"
      ],
      "text/plain": [
       "                         Sales\n",
       "Sub-Category Market           \n",
       "Chairs       APAC    512974.20\n",
       "Bookcases    APAC    504823.08\n",
       "Copiers      APAC    494593.68\n",
       "Phones       APAC    486354.50\n",
       "Copiers      EU      365128.61\n",
       "...                        ...\n",
       "Tables       Canada     849.36\n",
       "Furnishings  Canada     808.53\n",
       "Envelopes    Canada     567.18\n",
       "Fasteners    Canada     479.46\n",
       "Labels       Canada     421.74\n",
       "\n",
       "[119 rows x 1 columns]"
      ]
     },
     "execution_count": 50,
     "metadata": {},
     "output_type": "execute_result"
    }
   ],
   "source": [
    "# Grouping sales by sub category and market\n",
    "ab = super_df.groupby(['Sub-Category','Market'])[['Sales']].sum().round(2).sort_values('Sales',ascending =False)\n",
    "ab\n"
   ]
  },
  {
   "cell_type": "code",
   "execution_count": 25,
   "id": "4aa45ada",
   "metadata": {},
   "outputs": [
    {
     "data": {
      "text/plain": [
       "Medium      29433\n",
       "High        15501\n",
       "Critical     3932\n",
       "Low          2424\n",
       "Name: Order Priority, dtype: int64"
      ]
     },
     "execution_count": 25,
     "metadata": {},
     "output_type": "execute_result"
    }
   ],
   "source": [
    "super_df['Order Priority'].value_counts()"
   ]
  },
  {
   "cell_type": "code",
   "execution_count": 27,
   "id": "a08e3d96",
   "metadata": {},
   "outputs": [
    {
     "data": {
      "text/plain": [
       "November     5660\n",
       "December     5534\n",
       "September    5237\n",
       "June         4892\n",
       "August       4715\n",
       "October      4467\n",
       "May          3938\n",
       "March        3728\n",
       "July         3571\n",
       "April        3499\n",
       "January      3122\n",
       "February     2927\n",
       "Name: Order_Month, dtype: int64"
      ]
     },
     "execution_count": 27,
     "metadata": {},
     "output_type": "execute_result"
    }
   ],
   "source": [
    "super_df['Order_Month'].value_counts()"
   ]
  },
  {
   "cell_type": "code",
   "execution_count": 28,
   "id": "af1b5867",
   "metadata": {},
   "outputs": [
    {
     "data": {
      "text/plain": [
       "November     5593\n",
       "December     5535\n",
       "September    5277\n",
       "June         4808\n",
       "August       4735\n",
       "October      4315\n",
       "May          3890\n",
       "July         3817\n",
       "March        3508\n",
       "April        3483\n",
       "January      3295\n",
       "February     3034\n",
       "Name: Ship_Month, dtype: int64"
      ]
     },
     "execution_count": 28,
     "metadata": {},
     "output_type": "execute_result"
    }
   ],
   "source": [
    "super_df['Ship_Month'].value_counts()"
   ]
  },
  {
   "cell_type": "code",
   "execution_count": 29,
   "id": "4a9bac8e",
   "metadata": {},
   "outputs": [
    {
     "data": {
      "text/plain": [
       "Monday       7833\n",
       "Saturday     7828\n",
       "Sunday       7737\n",
       "Tuesday      7401\n",
       "Wednesday    7240\n",
       "Friday       6904\n",
       "Thursday     6347\n",
       "Name: Ship_Days, dtype: int64"
      ]
     },
     "execution_count": 29,
     "metadata": {},
     "output_type": "execute_result"
    }
   ],
   "source": [
    "super_df['Ship_Days'].value_counts()"
   ]
  },
  {
   "cell_type": "markdown",
   "id": "a4b7f16a",
   "metadata": {},
   "source": [
    "### Sales and Profit per market"
   ]
  },
  {
   "cell_type": "code",
   "execution_count": 51,
   "id": "9680bc0b",
   "metadata": {
    "scrolled": true
   },
   "outputs": [],
   "source": [
    "# Creating a new sales column for unit price without discount\n",
    "\n",
    "super_df['Unit_Price']= super_df['Sales'] /(super_df['Quantity'] * (1 - super_df['Discount']))"
   ]
  },
  {
   "cell_type": "code",
   "execution_count": 52,
   "id": "69f0bf7f",
   "metadata": {},
   "outputs": [],
   "source": [
    "#Creating a new column for discounted amount\n",
    "\n",
    "super_df['Discounted_Amt'] = super_df['Discount'] * (super_df['Unit_Price'] * super_df['Quantity']) "
   ]
  },
  {
   "cell_type": "code",
   "execution_count": 53,
   "id": "f8aac85e",
   "metadata": {
    "scrolled": false
   },
   "outputs": [
    {
     "data": {
      "text/html": [
       "<div>\n",
       "<style scoped>\n",
       "    .dataframe tbody tr th:only-of-type {\n",
       "        vertical-align: middle;\n",
       "    }\n",
       "\n",
       "    .dataframe tbody tr th {\n",
       "        vertical-align: top;\n",
       "    }\n",
       "\n",
       "    .dataframe thead th {\n",
       "        text-align: right;\n",
       "    }\n",
       "</style>\n",
       "<table border=\"1\" class=\"dataframe\">\n",
       "  <thead>\n",
       "    <tr style=\"text-align: right;\">\n",
       "      <th></th>\n",
       "      <th>Sales</th>\n",
       "    </tr>\n",
       "    <tr>\n",
       "      <th>Market</th>\n",
       "      <th></th>\n",
       "    </tr>\n",
       "  </thead>\n",
       "  <tbody>\n",
       "    <tr>\n",
       "      <th>APAC</th>\n",
       "      <td>3585744.13</td>\n",
       "    </tr>\n",
       "    <tr>\n",
       "      <th>Africa</th>\n",
       "      <td>783773.21</td>\n",
       "    </tr>\n",
       "    <tr>\n",
       "      <th>Canada</th>\n",
       "      <td>66928.17</td>\n",
       "    </tr>\n",
       "    <tr>\n",
       "      <th>EMEA</th>\n",
       "      <td>806161.31</td>\n",
       "    </tr>\n",
       "    <tr>\n",
       "      <th>EU</th>\n",
       "      <td>2938089.06</td>\n",
       "    </tr>\n",
       "    <tr>\n",
       "      <th>LATAM</th>\n",
       "      <td>2164605.17</td>\n",
       "    </tr>\n",
       "    <tr>\n",
       "      <th>US</th>\n",
       "      <td>2297200.86</td>\n",
       "    </tr>\n",
       "  </tbody>\n",
       "</table>\n",
       "</div>"
      ],
      "text/plain": [
       "             Sales\n",
       "Market            \n",
       "APAC    3585744.13\n",
       "Africa   783773.21\n",
       "Canada    66928.17\n",
       "EMEA     806161.31\n",
       "EU      2938089.06\n",
       "LATAM   2164605.17\n",
       "US      2297200.86"
      ]
     },
     "execution_count": 53,
     "metadata": {},
     "output_type": "execute_result"
    }
   ],
   "source": [
    "# Sales per market\n",
    "ss = super_df.groupby(by = 'Market')[['Sales']].sum().round(2)\n",
    "ss"
   ]
  },
  {
   "cell_type": "code",
   "execution_count": 33,
   "id": "c8ef0d75",
   "metadata": {
    "scrolled": true
   },
   "outputs": [
    {
     "data": {
      "image/png": "[encoded data removed]",
      "text/plain": [
       "<Figure size 432x288 with 1 Axes>"
      ]
     },
     "metadata": {
      "needs_background": "light"
     },
     "output_type": "display_data"
    }
   ],
   "source": [
    "# plotting total sales per maket\n",
    "ss.plot(kind = 'bar', alpha = 1)\n",
    "plt.title('Sales per market')\n",
    "plt.show()"
   ]
  },
  {
   "cell_type": "markdown",
   "id": "552bc7ad",
   "metadata": {},
   "source": [
    "**Observation** \n",
    "\n",
    "The market with the highest sales is APAC with Canada recording the least sales"
   ]
  },
  {
   "cell_type": "code",
   "execution_count": 34,
   "id": "87e66dd7",
   "metadata": {
    "scrolled": true
   },
   "outputs": [
    {
     "data": {
      "text/html": [
       "<div>\n",
       "<style scoped>\n",
       "    .dataframe tbody tr th:only-of-type {\n",
       "        vertical-align: middle;\n",
       "    }\n",
       "\n",
       "    .dataframe tbody tr th {\n",
       "        vertical-align: top;\n",
       "    }\n",
       "\n",
       "    .dataframe thead th {\n",
       "        text-align: right;\n",
       "    }\n",
       "</style>\n",
       "<table border=\"1\" class=\"dataframe\">\n",
       "  <thead>\n",
       "    <tr style=\"text-align: right;\">\n",
       "      <th></th>\n",
       "      <th>Profit</th>\n",
       "    </tr>\n",
       "    <tr>\n",
       "      <th>Market</th>\n",
       "      <th></th>\n",
       "    </tr>\n",
       "  </thead>\n",
       "  <tbody>\n",
       "    <tr>\n",
       "      <th>APAC</th>\n",
       "      <td>436000.05</td>\n",
       "    </tr>\n",
       "    <tr>\n",
       "      <th>Africa</th>\n",
       "      <td>88871.63</td>\n",
       "    </tr>\n",
       "    <tr>\n",
       "      <th>Canada</th>\n",
       "      <td>17817.39</td>\n",
       "    </tr>\n",
       "    <tr>\n",
       "      <th>EMEA</th>\n",
       "      <td>43897.97</td>\n",
       "    </tr>\n",
       "    <tr>\n",
       "      <th>EU</th>\n",
       "      <td>372829.74</td>\n",
       "    </tr>\n",
       "    <tr>\n",
       "      <th>LATAM</th>\n",
       "      <td>221643.49</td>\n",
       "    </tr>\n",
       "    <tr>\n",
       "      <th>US</th>\n",
       "      <td>286397.02</td>\n",
       "    </tr>\n",
       "  </tbody>\n",
       "</table>\n",
       "</div>"
      ],
      "text/plain": [
       "           Profit\n",
       "Market           \n",
       "APAC    436000.05\n",
       "Africa   88871.63\n",
       "Canada   17817.39\n",
       "EMEA     43897.97\n",
       "EU      372829.74\n",
       "LATAM   221643.49\n",
       "US      286397.02"
      ]
     },
     "execution_count": 34,
     "metadata": {},
     "output_type": "execute_result"
    }
   ],
   "source": [
    "# Profit per market\n",
    "sp = super_df.groupby('Market')[['Profit']].sum().round(2)\n",
    "sp"
   ]
  },
  {
   "cell_type": "code",
   "execution_count": 35,
   "id": "20087237",
   "metadata": {
    "scrolled": true
   },
   "outputs": [
    {
     "data": {
      "image/png": "[encoded data removed]",
      "text/plain": [
       "<Figure size 432x288 with 1 Axes>"
      ]
     },
     "metadata": {
      "needs_background": "light"
     },
     "output_type": "display_data"
    }
   ],
   "source": [
    "# plotting total sales per market\n",
    "sp.plot(kind = 'bar')\n",
    "plt.title('Profit per market')\n",
    "plt.show()"
   ]
  },
  {
   "cell_type": "markdown",
   "id": "1ef8d24e",
   "metadata": {},
   "source": [
    "**Observation**\n",
    "\n",
    "From the graphs and figures above, the APAC market  recorded the most sales and profit. "
   ]
  },
  {
   "cell_type": "markdown",
   "id": "a4c28b25",
   "metadata": {},
   "source": [
    "###  Most profitable market"
   ]
  },
  {
   "cell_type": "code",
   "execution_count": 36,
   "id": "14fd48a2",
   "metadata": {
    "scrolled": true
   },
   "outputs": [],
   "source": [
    "so = sp.sort_values('Profit', ascending = False)[['Profit']]"
   ]
  },
  {
   "cell_type": "markdown",
   "id": "df82d5cf",
   "metadata": {},
   "source": [
    "**Most profitable market is the APAC market**"
   ]
  },
  {
   "cell_type": "markdown",
   "id": "e4d9a425",
   "metadata": {},
   "source": [
    "### Least profitable market"
   ]
  },
  {
   "cell_type": "code",
   "execution_count": 37,
   "id": "83141b15",
   "metadata": {
    "scrolled": true
   },
   "outputs": [
    {
     "data": {
      "text/html": [
       "<div>\n",
       "<style scoped>\n",
       "    .dataframe tbody tr th:only-of-type {\n",
       "        vertical-align: middle;\n",
       "    }\n",
       "\n",
       "    .dataframe tbody tr th {\n",
       "        vertical-align: top;\n",
       "    }\n",
       "\n",
       "    .dataframe thead th {\n",
       "        text-align: right;\n",
       "    }\n",
       "</style>\n",
       "<table border=\"1\" class=\"dataframe\">\n",
       "  <thead>\n",
       "    <tr style=\"text-align: right;\">\n",
       "      <th></th>\n",
       "      <th>Profit</th>\n",
       "    </tr>\n",
       "    <tr>\n",
       "      <th>Market</th>\n",
       "      <th></th>\n",
       "    </tr>\n",
       "  </thead>\n",
       "  <tbody>\n",
       "    <tr>\n",
       "      <th>Canada</th>\n",
       "      <td>17817.39</td>\n",
       "    </tr>\n",
       "    <tr>\n",
       "      <th>EMEA</th>\n",
       "      <td>43897.97</td>\n",
       "    </tr>\n",
       "    <tr>\n",
       "      <th>Africa</th>\n",
       "      <td>88871.63</td>\n",
       "    </tr>\n",
       "    <tr>\n",
       "      <th>LATAM</th>\n",
       "      <td>221643.49</td>\n",
       "    </tr>\n",
       "    <tr>\n",
       "      <th>US</th>\n",
       "      <td>286397.02</td>\n",
       "    </tr>\n",
       "    <tr>\n",
       "      <th>EU</th>\n",
       "      <td>372829.74</td>\n",
       "    </tr>\n",
       "    <tr>\n",
       "      <th>APAC</th>\n",
       "      <td>436000.05</td>\n",
       "    </tr>\n",
       "  </tbody>\n",
       "</table>\n",
       "</div>"
      ],
      "text/plain": [
       "           Profit\n",
       "Market           \n",
       "Canada   17817.39\n",
       "EMEA     43897.97\n",
       "Africa   88871.63\n",
       "LATAM   221643.49\n",
       "US      286397.02\n",
       "EU      372829.74\n",
       "APAC    436000.05"
      ]
     },
     "execution_count": 37,
     "metadata": {},
     "output_type": "execute_result"
    }
   ],
   "source": [
    "sp.sort_values( by = 'Profit', ascending = True)[['Profit']]"
   ]
  },
  {
   "cell_type": "code",
   "execution_count": 38,
   "id": "91cf9511",
   "metadata": {},
   "outputs": [
    {
     "data": {
      "image/png": "[encoded data removed]",
      "text/plain": [
       "<Figure size 432x288 with 1 Axes>"
      ]
     },
     "metadata": {
      "needs_background": "light"
     },
     "output_type": "display_data"
    }
   ],
   "source": [
    "so.plot(kind = 'bar')\n",
    "plt.title('Profitable and Least Profitable Market')\n",
    "plt.show()"
   ]
  },
  {
   "cell_type": "markdown",
   "id": "8c9b4d00",
   "metadata": {},
   "source": [
    "**Canada is the least profitable market**"
   ]
  },
  {
   "cell_type": "markdown",
   "id": "b9d9bb5f",
   "metadata": {},
   "source": [
    "### Month with most sales"
   ]
  },
  {
   "cell_type": "code",
   "execution_count": 39,
   "id": "4149cc73",
   "metadata": {
    "scrolled": true
   },
   "outputs": [
    {
     "data": {
      "text/plain": [
       "November     5660\n",
       "December     5534\n",
       "September    5237\n",
       "June         4892\n",
       "August       4715\n",
       "October      4467\n",
       "May          3938\n",
       "March        3728\n",
       "July         3571\n",
       "April        3499\n",
       "January      3122\n",
       "February     2927\n",
       "Name: Order_Month, dtype: int64"
      ]
     },
     "execution_count": 39,
     "metadata": {},
     "output_type": "execute_result"
    }
   ],
   "source": [
    "super_df['Order_Month'].value_counts()"
   ]
  },
  {
   "cell_type": "code",
   "execution_count": 55,
   "id": "ebc65f32",
   "metadata": {},
   "outputs": [
    {
     "data": {
      "image/png": "[encoded data removed]",
      "text/plain": [
       "<Figure size 432x288 with 1 Axes>"
      ]
     },
     "metadata": {
      "needs_background": "light"
     },
     "output_type": "display_data"
    }
   ],
   "source": [
    "# visualising the month with the most sales\n",
    "# kde =  True is to help determine distribution of observations in the data per it density\n",
    "sns.histplot(super_df['Order_Month'],kde = True)\n",
    "plt.xticks(rotation=90)\n",
    "plt.xlabel('Order_Month')\n",
    "plt.ylabel('Count')\n",
    "plt.title('Month With Most Sales')\n",
    "plt.show()"
   ]
  },
  {
   "cell_type": "markdown",
   "id": "0b9044b0",
   "metadata": {},
   "source": [
    "**The month with the most sales is November**"
   ]
  },
  {
   "cell_type": "markdown",
   "id": "124806f8",
   "metadata": {},
   "source": [
    "### Segment providing more profit"
   ]
  },
  {
   "cell_type": "code",
   "execution_count": 41,
   "id": "6647040a",
   "metadata": {
    "scrolled": true
   },
   "outputs": [
    {
     "data": {
      "text/plain": [
       "array(['Consumer', 'Home Office', 'Corporate'], dtype=object)"
      ]
     },
     "execution_count": 41,
     "metadata": {},
     "output_type": "execute_result"
    }
   ],
   "source": [
    "super_df['Segment'].unique()"
   ]
  },
  {
   "cell_type": "code",
   "execution_count": 42,
   "id": "f67582d3",
   "metadata": {
    "scrolled": true
   },
   "outputs": [
    {
     "data": {
      "text/html": [
       "<div>\n",
       "<style scoped>\n",
       "    .dataframe tbody tr th:only-of-type {\n",
       "        vertical-align: middle;\n",
       "    }\n",
       "\n",
       "    .dataframe tbody tr th {\n",
       "        vertical-align: top;\n",
       "    }\n",
       "\n",
       "    .dataframe thead th {\n",
       "        text-align: right;\n",
       "    }\n",
       "</style>\n",
       "<table border=\"1\" class=\"dataframe\">\n",
       "  <thead>\n",
       "    <tr style=\"text-align: right;\">\n",
       "      <th></th>\n",
       "      <th>Profit</th>\n",
       "    </tr>\n",
       "    <tr>\n",
       "      <th>Segment</th>\n",
       "      <th></th>\n",
       "    </tr>\n",
       "  </thead>\n",
       "  <tbody>\n",
       "    <tr>\n",
       "      <th>Consumer</th>\n",
       "      <td>749239.78</td>\n",
       "    </tr>\n",
       "    <tr>\n",
       "      <th>Corporate</th>\n",
       "      <td>441208.33</td>\n",
       "    </tr>\n",
       "    <tr>\n",
       "      <th>Home Office</th>\n",
       "      <td>277009.18</td>\n",
       "    </tr>\n",
       "  </tbody>\n",
       "</table>\n",
       "</div>"
      ],
      "text/plain": [
       "                Profit\n",
       "Segment               \n",
       "Consumer     749239.78\n",
       "Corporate    441208.33\n",
       "Home Office  277009.18"
      ]
     },
     "execution_count": 42,
     "metadata": {},
     "output_type": "execute_result"
    }
   ],
   "source": [
    "# Grouping segments per profit\n",
    "sg = super_df.groupby(by = 'Segment')[['Profit']].sum().round(2)\n",
    "sg"
   ]
  },
  {
   "cell_type": "code",
   "execution_count": 43,
   "id": "6c6536e4",
   "metadata": {},
   "outputs": [
    {
     "data": {
      "text/plain": [
       "Index(['Consumer', 'Corporate', 'Home Office'], dtype='object', name='Segment')"
      ]
     },
     "execution_count": 43,
     "metadata": {},
     "output_type": "execute_result"
    }
   ],
   "source": [
    "sg.index"
   ]
  },
  {
   "cell_type": "code",
   "execution_count": 56,
   "id": "5a98528a",
   "metadata": {
    "scrolled": true
   },
   "outputs": [
    {
     "data": {
      "image/png": "[encoded data removed]",
      "text/plain": [
       "<Figure size 432x288 with 1 Axes>"
      ]
     },
     "metadata": {
      "needs_background": "light"
     },
     "output_type": "display_data"
    }
   ],
   "source": [
    "# Plotting profits of each segments\n",
    "sg.plot(kind = 'bar',color = 'g', alpha = 0.6)\n",
    "\n",
    "plt.title('Segment providing more profit')\n",
    "plt.show()"
   ]
  },
  {
   "cell_type": "markdown",
   "id": "4f318272",
   "metadata": {},
   "source": [
    "**Observations**\n",
    "\n",
    "The segment accruing most profit than any of the segment is Consumer.  \n",
    "They record the highest profit because products in this segment are used daily. \n",
    "Sales in Home office can be improved by introducing a cross selling feature where customers are given suggestions on \n",
    "complementary items they could purchase along side what ever they are purchasing.\n"
   ]
  },
  {
   "cell_type": "markdown",
   "id": "3cd124ee",
   "metadata": {},
   "source": [
    "### Order priority yielding more sales"
   ]
  },
  {
   "cell_type": "code",
   "execution_count": 58,
   "id": "123eca86",
   "metadata": {},
   "outputs": [
    {
     "data": {
      "text/plain": [
       "array(['Medium', 'High', 'Critical', 'Low'], dtype=object)"
      ]
     },
     "execution_count": 58,
     "metadata": {},
     "output_type": "execute_result"
    }
   ],
   "source": [
    "# unique variables in the column of order priority\n",
    "super_df['Order Priority'].unique()"
   ]
  },
  {
   "cell_type": "code",
   "execution_count": 59,
   "id": "31311a7d",
   "metadata": {
    "scrolled": true
   },
   "outputs": [
    {
     "data": {
      "text/plain": [
       "Medium      29433\n",
       "High        15501\n",
       "Critical     3932\n",
       "Low          2424\n",
       "Name: Order Priority, dtype: int64"
      ]
     },
     "execution_count": 59,
     "metadata": {},
     "output_type": "execute_result"
    }
   ],
   "source": [
    "# value count of order priority\n",
    "super_df['Order Priority'].value_counts()"
   ]
  },
  {
   "cell_type": "code",
   "execution_count": 60,
   "id": "98017f14",
   "metadata": {
    "scrolled": false
   },
   "outputs": [
    {
     "data": {
      "text/html": [
       "<div>\n",
       "<style scoped>\n",
       "    .dataframe tbody tr th:only-of-type {\n",
       "        vertical-align: middle;\n",
       "    }\n",
       "\n",
       "    .dataframe tbody tr th {\n",
       "        vertical-align: top;\n",
       "    }\n",
       "\n",
       "    .dataframe thead th {\n",
       "        text-align: right;\n",
       "    }\n",
       "</style>\n",
       "<table border=\"1\" class=\"dataframe\">\n",
       "  <thead>\n",
       "    <tr style=\"text-align: right;\">\n",
       "      <th></th>\n",
       "      <th>Sales</th>\n",
       "    </tr>\n",
       "    <tr>\n",
       "      <th>Order Priority</th>\n",
       "      <th></th>\n",
       "    </tr>\n",
       "  </thead>\n",
       "  <tbody>\n",
       "    <tr>\n",
       "      <th>Medium</th>\n",
       "      <td>7280892.37</td>\n",
       "    </tr>\n",
       "    <tr>\n",
       "      <th>High</th>\n",
       "      <td>3807548.14</td>\n",
       "    </tr>\n",
       "    <tr>\n",
       "      <th>Critical</th>\n",
       "      <td>986235.46</td>\n",
       "    </tr>\n",
       "    <tr>\n",
       "      <th>Low</th>\n",
       "      <td>567825.93</td>\n",
       "    </tr>\n",
       "  </tbody>\n",
       "</table>\n",
       "</div>"
      ],
      "text/plain": [
       "                     Sales\n",
       "Order Priority            \n",
       "Medium          7280892.37\n",
       "High            3807548.14\n",
       "Critical         986235.46\n",
       "Low              567825.93"
      ]
     },
     "execution_count": 60,
     "metadata": {},
     "output_type": "execute_result"
    }
   ],
   "source": [
    "# grouping order priority by sales\n",
    "# just checking if this will correspond with that of value_counts\n",
    "\n",
    "op =super_df.groupby('Order Priority')[['Sales']].sum().round(2).sort_values('Sales',ascending = False)\n",
    "op"
   ]
  },
  {
   "cell_type": "code",
   "execution_count": 61,
   "id": "88920719",
   "metadata": {
    "scrolled": true
   },
   "outputs": [
    {
     "data": {
      "image/png": "[encoded data removed]",
      "text/plain": [
       "<Figure size 576x432 with 1 Axes>"
      ]
     },
     "metadata": {},
     "output_type": "display_data"
    }
   ],
   "source": [
    "# visualising using pie plot for order priority\n",
    "\n",
    "fig,ax = plt.subplots(figsize=(8,6))\n",
    "\n",
    "colors_list=['gold','lightgreen','pink','red','cyan']\n",
    "\n",
    "explode_list= [0.1,0,0,0,0]\n",
    "\n",
    "super_df.groupby('Order Priority')['Sales'].sum().plot(kind = 'pie',\n",
    "                                            autopct = '%1.1f%%',\n",
    "                                            colors = colors_list,\n",
    "                                            startangle = 90)\n",
    "\n",
    "plt.title('Order priority yielding more sales',fontsize = 20)\n",
    "plt.show()"
   ]
  },
  {
   "cell_type": "code",
   "execution_count": 63,
   "id": "56e49fe4",
   "metadata": {
    "scrolled": true
   },
   "outputs": [
    {
     "data": {
      "image/png": "[encoded data removed]",
      "text/plain": [
       "<Figure size 432x288 with 1 Axes>"
      ]
     },
     "metadata": {
      "needs_background": "light"
     },
     "output_type": "display_data"
    }
   ],
   "source": [
    "# plotting an alternate bar plot to display order priority\n",
    "\n",
    "op.plot(kind = 'bar', alpha = 0.9)\n",
    "plt.title('Order priority yielding more sales')\n",
    "plt.show()"
   ]
  },
  {
   "cell_type": "markdown",
   "id": "feba1f18",
   "metadata": {},
   "source": [
    "## Does the shipping cost affect the sales?\n"
   ]
  },
  {
   "cell_type": "code",
   "execution_count": 74,
   "id": "b3efe689",
   "metadata": {},
   "outputs": [
    {
     "data": {
      "text/plain": [
       "0.7680728376889517"
      ]
     },
     "execution_count": 74,
     "metadata": {},
     "output_type": "execute_result"
    }
   ],
   "source": [
    "# finding the correlation between shipping cost and sales\n",
    "\n",
    "super_df['Shipping Cost'].corr(super_df['Sales'])"
   ]
  },
  {
   "cell_type": "code",
   "execution_count": 77,
   "id": "0fd59f42",
   "metadata": {
    "scrolled": true
   },
   "outputs": [
    {
     "data": {
      "image/png": "[encoded data removed]",
      "text/plain": [
       "<Figure size 432x288 with 1 Axes>"
      ]
     },
     "metadata": {
      "needs_background": "light"
     },
     "output_type": "display_data"
    }
   ],
   "source": [
    "#A regression plot to find the correlation between shipping cost and sales\n",
    "#To change the colour of the line or scater supply the argument (line or scatter _kws)={\"color\":\"red\"}\n",
    "sns.regplot(x=\"Shipping Cost\",y=\"Sales\",data=super_df, line_kws={\"color\": \"red\"})\n",
    "plt.show()"
   ]
  },
  {
   "cell_type": "markdown",
   "id": "f1d14992",
   "metadata": {},
   "source": [
    "**Observation**\n",
    "\n",
    "From above, there is a strong positive correlation. The pearson r is 0.7680728376889523"
   ]
  },
  {
   "cell_type": "markdown",
   "id": "6acb0d3d",
   "metadata": {},
   "source": [
    "### Average shipping cost for each region"
   ]
  },
  {
   "cell_type": "code",
   "execution_count": 65,
   "id": "6d760cc8",
   "metadata": {
    "scrolled": true
   },
   "outputs": [
    {
     "data": {
      "text/html": [
       "<div>\n",
       "<style scoped>\n",
       "    .dataframe tbody tr th:only-of-type {\n",
       "        vertical-align: middle;\n",
       "    }\n",
       "\n",
       "    .dataframe tbody tr th {\n",
       "        vertical-align: top;\n",
       "    }\n",
       "\n",
       "    .dataframe thead th {\n",
       "        text-align: right;\n",
       "    }\n",
       "</style>\n",
       "<table border=\"1\" class=\"dataframe\">\n",
       "  <thead>\n",
       "    <tr style=\"text-align: right;\">\n",
       "      <th></th>\n",
       "      <th>Shipping Cost</th>\n",
       "    </tr>\n",
       "    <tr>\n",
       "      <th>Market</th>\n",
       "      <th></th>\n",
       "    </tr>\n",
       "  </thead>\n",
       "  <tbody>\n",
       "    <tr>\n",
       "      <th>APAC</th>\n",
       "      <td>35.19</td>\n",
       "    </tr>\n",
       "    <tr>\n",
       "      <th>Africa</th>\n",
       "      <td>19.22</td>\n",
       "    </tr>\n",
       "    <tr>\n",
       "      <th>Canada</th>\n",
       "      <td>19.29</td>\n",
       "    </tr>\n",
       "    <tr>\n",
       "      <th>EMEA</th>\n",
       "      <td>17.57</td>\n",
       "    </tr>\n",
       "    <tr>\n",
       "      <th>EU</th>\n",
       "      <td>30.94</td>\n",
       "    </tr>\n",
       "    <tr>\n",
       "      <th>LATAM</th>\n",
       "      <td>22.75</td>\n",
       "    </tr>\n",
       "    <tr>\n",
       "      <th>US</th>\n",
       "      <td>23.83</td>\n",
       "    </tr>\n",
       "  </tbody>\n",
       "</table>\n",
       "</div>"
      ],
      "text/plain": [
       "        Shipping Cost\n",
       "Market               \n",
       "APAC            35.19\n",
       "Africa          19.22\n",
       "Canada          19.29\n",
       "EMEA            17.57\n",
       "EU              30.94\n",
       "LATAM           22.75\n",
       "US              23.83"
      ]
     },
     "execution_count": 65,
     "metadata": {},
     "output_type": "execute_result"
    }
   ],
   "source": [
    "sm = super_df.groupby('Market')[['Shipping Cost']].mean().round(2)\n",
    "sm"
   ]
  },
  {
   "cell_type": "code",
   "execution_count": 66,
   "id": "392f3669",
   "metadata": {
    "scrolled": true
   },
   "outputs": [
    {
     "data": {
      "image/png": "[encoded data removed]",
      "text/plain": [
       "<Figure size 432x288 with 1 Axes>"
      ]
     },
     "metadata": {
      "needs_background": "light"
     },
     "output_type": "display_data"
    }
   ],
   "source": [
    "sm.plot(kind = 'bar', alpha = 0.9)\n",
    "plt.title('Average shipping cost Per Market')\n",
    "plt.show()"
   ]
  },
  {
   "attachments": {},
   "cell_type": "markdown",
   "id": "39a49302",
   "metadata": {},
   "source": [
    "**Observations**\n",
    "\n",
    "Market with the highest shipping cost is APAC with it average cost being 35.19 and 30.94 for Eu being the second highest. Even though cost of shipping on average does not affect sales, the delivery speed for EMEA,AFRICA and Canada needs to be reviewed to encourage sales from those markets.\n"
   ]
  },
  {
   "cell_type": "code",
   "execution_count": 95,
   "id": "47ce40a1",
   "metadata": {
    "scrolled": false
   },
   "outputs": [
    {
     "data": {
      "text/html": [
       "<div>\n",
       "<style scoped>\n",
       "    .dataframe tbody tr th:only-of-type {\n",
       "        vertical-align: middle;\n",
       "    }\n",
       "\n",
       "    .dataframe tbody tr th {\n",
       "        vertical-align: top;\n",
       "    }\n",
       "\n",
       "    .dataframe thead th {\n",
       "        text-align: right;\n",
       "    }\n",
       "</style>\n",
       "<table border=\"1\" class=\"dataframe\">\n",
       "  <thead>\n",
       "    <tr style=\"text-align: right;\">\n",
       "      <th></th>\n",
       "      <th>Shipping Cost</th>\n",
       "    </tr>\n",
       "    <tr>\n",
       "      <th>Region</th>\n",
       "      <th></th>\n",
       "    </tr>\n",
       "  </thead>\n",
       "  <tbody>\n",
       "    <tr>\n",
       "      <th>Africa</th>\n",
       "      <td>19.22</td>\n",
       "    </tr>\n",
       "    <tr>\n",
       "      <th>Canada</th>\n",
       "      <td>19.29</td>\n",
       "    </tr>\n",
       "    <tr>\n",
       "      <th>Caribbean</th>\n",
       "      <td>21.06</td>\n",
       "    </tr>\n",
       "    <tr>\n",
       "      <th>Central</th>\n",
       "      <td>26.71</td>\n",
       "    </tr>\n",
       "    <tr>\n",
       "      <th>Central Asia</th>\n",
       "      <td>38.00</td>\n",
       "    </tr>\n",
       "    <tr>\n",
       "      <th>EMEA</th>\n",
       "      <td>17.57</td>\n",
       "    </tr>\n",
       "    <tr>\n",
       "      <th>East</th>\n",
       "      <td>25.54</td>\n",
       "    </tr>\n",
       "    <tr>\n",
       "      <th>North</th>\n",
       "      <td>27.48</td>\n",
       "    </tr>\n",
       "    <tr>\n",
       "      <th>North Asia</th>\n",
       "      <td>40.65</td>\n",
       "    </tr>\n",
       "    <tr>\n",
       "      <th>Oceania</th>\n",
       "      <td>34.59</td>\n",
       "    </tr>\n",
       "    <tr>\n",
       "      <th>South</th>\n",
       "      <td>25.35</td>\n",
       "    </tr>\n",
       "    <tr>\n",
       "      <th>Southeast Asia</th>\n",
       "      <td>29.94</td>\n",
       "    </tr>\n",
       "    <tr>\n",
       "      <th>West</th>\n",
       "      <td>23.89</td>\n",
       "    </tr>\n",
       "  </tbody>\n",
       "</table>\n",
       "</div>"
      ],
      "text/plain": [
       "                Shipping Cost\n",
       "Region                       \n",
       "Africa                  19.22\n",
       "Canada                  19.29\n",
       "Caribbean               21.06\n",
       "Central                 26.71\n",
       "Central Asia            38.00\n",
       "EMEA                    17.57\n",
       "East                    25.54\n",
       "North                   27.48\n",
       "North Asia              40.65\n",
       "Oceania                 34.59\n",
       "South                   25.35\n",
       "Southeast Asia          29.94\n",
       "West                    23.89"
      ]
     },
     "execution_count": 95,
     "metadata": {},
     "output_type": "execute_result"
    }
   ],
   "source": [
    "# finding ship cost per region\n",
    "\n",
    "sr = super_df.groupby('Region')[['Shipping Cost']].mean().round(2)\n",
    "sr"
   ]
  },
  {
   "cell_type": "code",
   "execution_count": 79,
   "id": "20d40921",
   "metadata": {},
   "outputs": [
    {
     "data": {
      "image/png": "[encoded data removed]",
      "text/plain": [
       "<Figure size 432x288 with 1 Axes>"
      ]
     },
     "metadata": {
      "needs_background": "light"
     },
     "output_type": "display_data"
    }
   ],
   "source": [
    "sr.plot(kind = 'bar', alpha = 0.9)\n",
    "plt.title('Average shipping cost to each region')\n",
    "plt.show()"
   ]
  },
  {
   "cell_type": "markdown",
   "id": "64eb297a",
   "metadata": {},
   "source": [
    "###  Product categories to be targetted to the different markets"
   ]
  },
  {
   "cell_type": "code",
   "execution_count": 80,
   "id": "1fabca4b",
   "metadata": {
    "scrolled": true
   },
   "outputs": [
    {
     "data": {
      "text/plain": [
       "Market\n",
       "APAC      11002\n",
       "Africa     4587\n",
       "Canada      384\n",
       "EMEA       5029\n",
       "EU        10000\n",
       "LATAM     10294\n",
       "US         9994\n",
       "Name: Category, dtype: int64"
      ]
     },
     "execution_count": 80,
     "metadata": {},
     "output_type": "execute_result"
    }
   ],
   "source": [
    "# sum of counts of categories for each market\n",
    "\n",
    "super_df.groupby('Market')['Category'].count()"
   ]
  },
  {
   "cell_type": "code",
   "execution_count": 93,
   "id": "bc200dc6",
   "metadata": {
    "scrolled": false
   },
   "outputs": [
    {
     "data": {
      "text/plain": [
       "Market  Category       \n",
       "APAC    Office Supplies    6177\n",
       "        Furniture          2429\n",
       "        Technology         2396\n",
       "Africa  Office Supplies    3045\n",
       "        Technology          911\n",
       "        Furniture           631\n",
       "Canada  Office Supplies     277\n",
       "        Technology           65\n",
       "        Furniture            42\n",
       "EMEA    Office Supplies    3297\n",
       "        Technology          962\n",
       "        Furniture           770\n",
       "EU      Office Supplies    6589\n",
       "        Technology         1910\n",
       "        Furniture          1501\n",
       "LATAM   Office Supplies    5862\n",
       "        Furniture          2382\n",
       "        Technology         2050\n",
       "US      Office Supplies    6026\n",
       "        Furniture          2121\n",
       "        Technology         1847\n",
       "Name: Category, dtype: int64"
      ]
     },
     "execution_count": 93,
     "metadata": {},
     "output_type": "execute_result"
    }
   ],
   "source": [
    "# Finding the value counts of each category in each market\n",
    "\n",
    "pc = super_df.groupby('Market')['Category'].value_counts()\n",
    "pc"
   ]
  },
  {
   "cell_type": "code",
   "execution_count": 82,
   "id": "964f549b",
   "metadata": {
    "scrolled": false
   },
   "outputs": [
    {
     "data": {
      "image/png": "[encoded data removed]",
      "text/plain": [
       "<Figure size 432x288 with 1 Axes>"
      ]
     },
     "metadata": {
      "needs_background": "light"
     },
     "output_type": "display_data"
    }
   ],
   "source": [
    "# visualising using a stacked bar for sales of categories per market\n",
    "pc= pd.crosstab(super_df['Market'],super_df['Category'],values = super_df['Sales'],aggfunc =np.sum).round(2)\n",
    "pc\n",
    "\n",
    "pc.plot(kind= 'bar', stacked = True, color= ('y','b','r'))\n",
    "plt.show()"
   ]
  },
  {
   "cell_type": "markdown",
   "id": "3d99ab7c",
   "metadata": {},
   "source": [
    "### Monthly Profit Trend by market"
   ]
  },
  {
   "cell_type": "code",
   "execution_count": 83,
   "id": "aecebe71",
   "metadata": {
    "scrolled": true
   },
   "outputs": [
    {
     "data": {
      "text/html": [
       "<div>\n",
       "<style scoped>\n",
       "    .dataframe tbody tr th:only-of-type {\n",
       "        vertical-align: middle;\n",
       "    }\n",
       "\n",
       "    .dataframe tbody tr th {\n",
       "        vertical-align: top;\n",
       "    }\n",
       "\n",
       "    .dataframe thead th {\n",
       "        text-align: right;\n",
       "    }\n",
       "</style>\n",
       "<table border=\"1\" class=\"dataframe\">\n",
       "  <thead>\n",
       "    <tr style=\"text-align: right;\">\n",
       "      <th></th>\n",
       "      <th>Order_Month</th>\n",
       "      <th>Market</th>\n",
       "      <th>Profit</th>\n",
       "    </tr>\n",
       "  </thead>\n",
       "  <tbody>\n",
       "    <tr>\n",
       "      <th>0</th>\n",
       "      <td>April</td>\n",
       "      <td>APAC</td>\n",
       "      <td>24766.15830</td>\n",
       "    </tr>\n",
       "    <tr>\n",
       "      <th>1</th>\n",
       "      <td>April</td>\n",
       "      <td>Africa</td>\n",
       "      <td>7855.42800</td>\n",
       "    </tr>\n",
       "    <tr>\n",
       "      <th>2</th>\n",
       "      <td>April</td>\n",
       "      <td>Canada</td>\n",
       "      <td>319.02000</td>\n",
       "    </tr>\n",
       "    <tr>\n",
       "      <th>3</th>\n",
       "      <td>April</td>\n",
       "      <td>EMEA</td>\n",
       "      <td>1864.35300</td>\n",
       "    </tr>\n",
       "    <tr>\n",
       "      <th>4</th>\n",
       "      <td>April</td>\n",
       "      <td>EU</td>\n",
       "      <td>27895.96950</td>\n",
       "    </tr>\n",
       "    <tr>\n",
       "      <th>...</th>\n",
       "      <td>...</td>\n",
       "      <td>...</td>\n",
       "      <td>...</td>\n",
       "    </tr>\n",
       "    <tr>\n",
       "      <th>79</th>\n",
       "      <td>September</td>\n",
       "      <td>Canada</td>\n",
       "      <td>800.34000</td>\n",
       "    </tr>\n",
       "    <tr>\n",
       "      <th>80</th>\n",
       "      <td>September</td>\n",
       "      <td>EMEA</td>\n",
       "      <td>-3162.28500</td>\n",
       "    </tr>\n",
       "    <tr>\n",
       "      <th>81</th>\n",
       "      <td>September</td>\n",
       "      <td>EU</td>\n",
       "      <td>31233.21600</td>\n",
       "    </tr>\n",
       "    <tr>\n",
       "      <th>82</th>\n",
       "      <td>September</td>\n",
       "      <td>LATAM</td>\n",
       "      <td>22736.23504</td>\n",
       "    </tr>\n",
       "    <tr>\n",
       "      <th>83</th>\n",
       "      <td>September</td>\n",
       "      <td>US</td>\n",
       "      <td>36045.89660</td>\n",
       "    </tr>\n",
       "  </tbody>\n",
       "</table>\n",
       "<p>84 rows × 3 columns</p>\n",
       "</div>"
      ],
      "text/plain": [
       "   Order_Month  Market       Profit\n",
       "0        April    APAC  24766.15830\n",
       "1        April  Africa   7855.42800\n",
       "2        April  Canada    319.02000\n",
       "3        April    EMEA   1864.35300\n",
       "4        April      EU  27895.96950\n",
       "..         ...     ...          ...\n",
       "79   September  Canada    800.34000\n",
       "80   September    EMEA  -3162.28500\n",
       "81   September      EU  31233.21600\n",
       "82   September   LATAM  22736.23504\n",
       "83   September      US  36045.89660\n",
       "\n",
       "[84 rows x 3 columns]"
      ]
     },
     "execution_count": 83,
     "metadata": {},
     "output_type": "execute_result"
    }
   ],
   "source": [
    "months = super_df.groupby(['Order_Month','Market'],\n",
    "                          as_index=False,\n",
    "                          sort=True)[['Profit']].sum()\n",
    "months\n"
   ]
  },
  {
   "cell_type": "code",
   "execution_count": 84,
   "id": "6eb5293d",
   "metadata": {
    "scrolled": false
   },
   "outputs": [
    {
     "data": {
      "image/png": "[encoded data removed]",
      "text/plain": [
       "<Figure size 720x1440 with 7 Axes>"
      ]
     },
     "metadata": {
      "needs_background": "light"
     },
     "output_type": "display_data"
    }
   ],
   "source": [
    "# line plot to depict the trend of Profit per Month of order\n",
    "st = sns.relplot(x = 'Order_Month',y= 'Profit', data = months,\n",
    "            kind= 'line',col = 'Market', col_wrap =2)"
   ]
  },
  {
   "attachments": {},
   "cell_type": "markdown",
   "id": "1d17fa1b",
   "metadata": {},
   "source": [
    "**OBSERVATIONS**\n",
    "\n",
    "Sales from Africa looks promising except the downward slopes are as a result of discount sales. In this market,the most important focus should be on office supplies as well as driving sales with the other categories by running discounts sales in months with low spike in overall sales. \n",
    "\n",
    "The EMEA market performed the worse right after Canada. \n",
    "This market needs to identify and also upsell complimentary products of office supplies in the other categories. \n",
    "Since office supplies are the most patronized products, while upselling, discount priority needs to be given as well to drive sale and increase profit in the long run.\n",
    "\n",
    "Canada market needs to also employ the cross-selling, upselling and discount approach to drive sales. \n",
    "Sales of all categories in this market is relatively low and hence they record less sales and profit. "
   ]
  },
  {
   "cell_type": "markdown",
   "id": "7a327e27",
   "metadata": {},
   "source": [
    "### Yearly Profit Trend by Market"
   ]
  },
  {
   "cell_type": "code",
   "execution_count": 85,
   "id": "bca70ee5",
   "metadata": {},
   "outputs": [
    {
     "data": {
      "text/html": [
       "<div>\n",
       "<style scoped>\n",
       "    .dataframe tbody tr th:only-of-type {\n",
       "        vertical-align: middle;\n",
       "    }\n",
       "\n",
       "    .dataframe tbody tr th {\n",
       "        vertical-align: top;\n",
       "    }\n",
       "\n",
       "    .dataframe thead th {\n",
       "        text-align: right;\n",
       "    }\n",
       "</style>\n",
       "<table border=\"1\" class=\"dataframe\">\n",
       "  <thead>\n",
       "    <tr style=\"text-align: right;\">\n",
       "      <th></th>\n",
       "      <th>Order_Year</th>\n",
       "      <th>Market</th>\n",
       "      <th>Profit</th>\n",
       "    </tr>\n",
       "  </thead>\n",
       "  <tbody>\n",
       "    <tr>\n",
       "      <th>0</th>\n",
       "      <td>2011</td>\n",
       "      <td>Africa</td>\n",
       "      <td>10944.11400</td>\n",
       "    </tr>\n",
       "    <tr>\n",
       "      <th>1</th>\n",
       "      <td>2011</td>\n",
       "      <td>APAC</td>\n",
       "      <td>83031.57540</td>\n",
       "    </tr>\n",
       "    <tr>\n",
       "      <th>2</th>\n",
       "      <td>2011</td>\n",
       "      <td>EMEA</td>\n",
       "      <td>5280.03000</td>\n",
       "    </tr>\n",
       "    <tr>\n",
       "      <th>3</th>\n",
       "      <td>2011</td>\n",
       "      <td>EU</td>\n",
       "      <td>61625.62200</td>\n",
       "    </tr>\n",
       "    <tr>\n",
       "      <th>4</th>\n",
       "      <td>2011</td>\n",
       "      <td>US</td>\n",
       "      <td>49543.97410</td>\n",
       "    </tr>\n",
       "    <tr>\n",
       "      <th>5</th>\n",
       "      <td>2011</td>\n",
       "      <td>LATAM</td>\n",
       "      <td>36708.41604</td>\n",
       "    </tr>\n",
       "    <tr>\n",
       "      <th>6</th>\n",
       "      <td>2011</td>\n",
       "      <td>Canada</td>\n",
       "      <td>1807.08000</td>\n",
       "    </tr>\n",
       "    <tr>\n",
       "      <th>7</th>\n",
       "      <td>2012</td>\n",
       "      <td>APAC</td>\n",
       "      <td>89410.85040</td>\n",
       "    </tr>\n",
       "    <tr>\n",
       "      <th>8</th>\n",
       "      <td>2012</td>\n",
       "      <td>LATAM</td>\n",
       "      <td>50184.89800</td>\n",
       "    </tr>\n",
       "    <tr>\n",
       "      <th>9</th>\n",
       "      <td>2012</td>\n",
       "      <td>Africa</td>\n",
       "      <td>11908.93500</td>\n",
       "    </tr>\n",
       "    <tr>\n",
       "      <th>10</th>\n",
       "      <td>2012</td>\n",
       "      <td>EU</td>\n",
       "      <td>83984.57700</td>\n",
       "    </tr>\n",
       "    <tr>\n",
       "      <th>11</th>\n",
       "      <td>2012</td>\n",
       "      <td>EMEA</td>\n",
       "      <td>5419.57500</td>\n",
       "    </tr>\n",
       "    <tr>\n",
       "      <th>12</th>\n",
       "      <td>2012</td>\n",
       "      <td>US</td>\n",
       "      <td>61618.60370</td>\n",
       "    </tr>\n",
       "    <tr>\n",
       "      <th>13</th>\n",
       "      <td>2012</td>\n",
       "      <td>Canada</td>\n",
       "      <td>4887.84000</td>\n",
       "    </tr>\n",
       "    <tr>\n",
       "      <th>14</th>\n",
       "      <td>2013</td>\n",
       "      <td>APAC</td>\n",
       "      <td>123103.12590</td>\n",
       "    </tr>\n",
       "    <tr>\n",
       "      <th>15</th>\n",
       "      <td>2013</td>\n",
       "      <td>EU</td>\n",
       "      <td>98275.18500</td>\n",
       "    </tr>\n",
       "    <tr>\n",
       "      <th>16</th>\n",
       "      <td>2013</td>\n",
       "      <td>Africa</td>\n",
       "      <td>26687.11200</td>\n",
       "    </tr>\n",
       "    <tr>\n",
       "      <th>17</th>\n",
       "      <td>2013</td>\n",
       "      <td>Canada</td>\n",
       "      <td>5129.46000</td>\n",
       "    </tr>\n",
       "    <tr>\n",
       "      <th>18</th>\n",
       "      <td>2013</td>\n",
       "      <td>EMEA</td>\n",
       "      <td>10598.04300</td>\n",
       "    </tr>\n",
       "    <tr>\n",
       "      <th>19</th>\n",
       "      <td>2013</td>\n",
       "      <td>LATAM</td>\n",
       "      <td>61415.37348</td>\n",
       "    </tr>\n",
       "    <tr>\n",
       "      <th>20</th>\n",
       "      <td>2013</td>\n",
       "      <td>US</td>\n",
       "      <td>81726.93080</td>\n",
       "    </tr>\n",
       "    <tr>\n",
       "      <th>21</th>\n",
       "      <td>2014</td>\n",
       "      <td>EU</td>\n",
       "      <td>128944.35750</td>\n",
       "    </tr>\n",
       "    <tr>\n",
       "      <th>22</th>\n",
       "      <td>2014</td>\n",
       "      <td>APAC</td>\n",
       "      <td>140454.49730</td>\n",
       "    </tr>\n",
       "    <tr>\n",
       "      <th>23</th>\n",
       "      <td>2014</td>\n",
       "      <td>US</td>\n",
       "      <td>93507.51310</td>\n",
       "    </tr>\n",
       "    <tr>\n",
       "      <th>24</th>\n",
       "      <td>2014</td>\n",
       "      <td>Africa</td>\n",
       "      <td>39331.47000</td>\n",
       "    </tr>\n",
       "    <tr>\n",
       "      <th>25</th>\n",
       "      <td>2014</td>\n",
       "      <td>EMEA</td>\n",
       "      <td>22600.32300</td>\n",
       "    </tr>\n",
       "    <tr>\n",
       "      <th>26</th>\n",
       "      <td>2014</td>\n",
       "      <td>LATAM</td>\n",
       "      <td>73334.79956</td>\n",
       "    </tr>\n",
       "    <tr>\n",
       "      <th>27</th>\n",
       "      <td>2014</td>\n",
       "      <td>Canada</td>\n",
       "      <td>5993.01000</td>\n",
       "    </tr>\n",
       "  </tbody>\n",
       "</table>\n",
       "</div>"
      ],
      "text/plain": [
       "    Order_Year  Market        Profit\n",
       "0         2011  Africa   10944.11400\n",
       "1         2011    APAC   83031.57540\n",
       "2         2011    EMEA    5280.03000\n",
       "3         2011      EU   61625.62200\n",
       "4         2011      US   49543.97410\n",
       "5         2011   LATAM   36708.41604\n",
       "6         2011  Canada    1807.08000\n",
       "7         2012    APAC   89410.85040\n",
       "8         2012   LATAM   50184.89800\n",
       "9         2012  Africa   11908.93500\n",
       "10        2012      EU   83984.57700\n",
       "11        2012    EMEA    5419.57500\n",
       "12        2012      US   61618.60370\n",
       "13        2012  Canada    4887.84000\n",
       "14        2013    APAC  123103.12590\n",
       "15        2013      EU   98275.18500\n",
       "16        2013  Africa   26687.11200\n",
       "17        2013  Canada    5129.46000\n",
       "18        2013    EMEA   10598.04300\n",
       "19        2013   LATAM   61415.37348\n",
       "20        2013      US   81726.93080\n",
       "21        2014      EU  128944.35750\n",
       "22        2014    APAC  140454.49730\n",
       "23        2014      US   93507.51310\n",
       "24        2014  Africa   39331.47000\n",
       "25        2014    EMEA   22600.32300\n",
       "26        2014   LATAM   73334.79956\n",
       "27        2014  Canada    5993.01000"
      ]
     },
     "execution_count": 85,
     "metadata": {},
     "output_type": "execute_result"
    }
   ],
   "source": [
    "years = super_df.groupby(['Order_Year','Market'],\n",
    "                          as_index=False,\n",
    "                          sort=False)[['Profit']].sum()\n",
    "years\n"
   ]
  },
  {
   "cell_type": "code",
   "execution_count": 86,
   "id": "abd33022",
   "metadata": {},
   "outputs": [
    {
     "data": {
      "image/png": "[encoded data removed]",
      "text/plain": [
       "<Figure size 720x1440 with 7 Axes>"
      ]
     },
     "metadata": {
      "needs_background": "light"
     },
     "output_type": "display_data"
    }
   ],
   "source": [
    "years = sns.relplot(x ='Order_Year',y= 'Profit', data = years,\n",
    "            kind= 'line',col = 'Market',col_wrap =2)"
   ]
  },
  {
   "cell_type": "markdown",
   "id": "ee07da89",
   "metadata": {},
   "source": [
    "### Shipping Trend per Market"
   ]
  },
  {
   "cell_type": "code",
   "execution_count": 88,
   "id": "1d2de113",
   "metadata": {},
   "outputs": [],
   "source": [
    "shipping = super_df.groupby(['Ship_Month','Market'],\n",
    "                          as_index=False,\n",
    "                          sort=True)[['Market','Sales','Profit']].sum()\n"
   ]
  },
  {
   "cell_type": "code",
   "execution_count": 89,
   "id": "2ca4502d",
   "metadata": {
    "scrolled": false
   },
   "outputs": [
    {
     "name": "stderr",
     "output_type": "stream",
     "text": [
      "C:\\Users\\hp\\AppData\\Local\\Temp/ipykernel_18372/574961097.py:35: UserWarning: FixedFormatter should only be used together with FixedLocator\n",
      "  ax.set_xticklabels(tick_labels,rotation=90)\n"
     ]
    },
    {
     "data": {
      "image/png": "[encoded data removed]",
      "text/plain": [
       "<Figure size 576x288 with 1 Axes>"
      ]
     },
     "metadata": {
      "needs_background": "light"
     },
     "output_type": "display_data"
    }
   ],
   "source": [
    "\n",
    "tick_labels = super_df['Ship_Month'].unique()\n",
    "\n",
    "fig,ax = plt.subplots(figsize=(8,4))\n",
    "\n",
    "ax.plot(shipping[shipping['Market']=='Africa']['Ship_Month'],\n",
    "        shipping[shipping['Market']=='Africa']['Sales'],\n",
    "        label='Africa',color='green')\n",
    "\n",
    "\n",
    "ax.plot(shipping[shipping['Market']=='APAC']['Ship_Month'],\n",
    "        shipping[shipping['Market']=='APAC']['Sales'],\n",
    "        label='APAC',color='blue')\n",
    "\n",
    "\n",
    "ax.plot(shipping[shipping['Market']=='EMEA']['Ship_Month'],\n",
    "        shipping[shipping['Market']=='EMEA']['Sales'],\n",
    "        label='EMEA',color='red')\n",
    "\n",
    "\n",
    "ax.plot(shipping[shipping['Market']=='EU']['Ship_Month'],\n",
    "        shipping[shipping['Market']=='EU']['Sales'],\n",
    "        label ='EU',color='black') \n",
    "\n",
    "ax.plot(shipping[shipping['Market']=='US']['Ship_Month'],\n",
    "        shipping[shipping['Market']=='US']['Sales'],\n",
    "        label ='US',color='magenta') \n",
    "\n",
    "ax.plot(shipping[shipping['Market']=='LATAM']['Ship_Month'],\n",
    "        shipping[shipping['Market']=='LATAM']['Sales'],\n",
    "        label ='LATAM',color='cyan') \n",
    "\n",
    "ax.plot(shipping[shipping['Market']=='Canada']['Ship_Month'],\n",
    "        shipping[shipping['Market']=='Canada']['Sales'],\n",
    "        label ='Canada',color='yellow') \n",
    "ax.set_xticklabels(tick_labels,rotation=90)\n",
    "ax.legend()\n",
    "ax.set_title('Shipping Trend per Market')\n",
    "plt.show()"
   ]
  },
  {
   "cell_type": "markdown",
   "id": "d72acdf1",
   "metadata": {},
   "source": [
    "**OBSERVATIONS** \n",
    "\n",
    "North Asia has the highest shipping cost on average with 40.65 and EMEA recording 17.57 as average. \n"
   ]
  },
  {
   "cell_type": "markdown",
   "id": "e7e662ab",
   "metadata": {},
   "source": [
    "### Average shipping cost per Market"
   ]
  },
  {
   "cell_type": "code",
   "execution_count": 90,
   "id": "cded81ae",
   "metadata": {
    "scrolled": false
   },
   "outputs": [],
   "source": [
    "ship = super_df.groupby(['Ship_Month','Market'],\n",
    "                          as_index=False,\n",
    "                          sort=True)[['Shipping Cost']].mean()\n"
   ]
  },
  {
   "cell_type": "code",
   "execution_count": 91,
   "id": "7db195cf",
   "metadata": {
    "scrolled": true
   },
   "outputs": [
    {
     "name": "stderr",
     "output_type": "stream",
     "text": [
      "C:\\Users\\hp\\AppData\\Local\\Temp/ipykernel_18372/1789069028.py:35: UserWarning: FixedFormatter should only be used together with FixedLocator\n",
      "  ax.set_xticklabels(tick_labels,rotation=90)\n"
     ]
    },
    {
     "data": {
      "image/png": "[encoded data removed]",
      "text/plain": [
       "<Figure size 576x288 with 1 Axes>"
      ]
     },
     "metadata": {
      "needs_background": "light"
     },
     "output_type": "display_data"
    }
   ],
   "source": [
    "tick_labels = super_df['Ship_Month'].unique()\n",
    "\n",
    "fig,ax = plt.subplots(figsize=(8,4))\n",
    "\n",
    "ax.plot(ship[ship['Market']=='Africa']['Ship_Month'],\n",
    "        ship[ship['Market']=='Africa']['Shipping Cost'],\n",
    "        label='Africa',color='green')\n",
    "\n",
    "\n",
    "ax.plot(ship[ship['Market']=='APAC']['Ship_Month'],\n",
    "        ship[ship['Market']=='APAC']['Shipping Cost'],\n",
    "        label='APAC',color='blue')\n",
    "\n",
    "\n",
    "ax.plot(ship[ship['Market']=='EMEA']['Ship_Month'],\n",
    "        ship[ship['Market']=='EMEA']['Shipping Cost'],\n",
    "        label='EMEA',color='red')\n",
    "\n",
    "\n",
    "ax.plot(ship[ship['Market']=='EU']['Ship_Month'],\n",
    "        ship[ship['Market']=='EU']['Shipping Cost'],\n",
    "        label ='EU',color='black') \n",
    "\n",
    "ax.plot(ship[ship['Market']=='US']['Ship_Month'],\n",
    "        ship[ship['Market']=='US']['Shipping Cost'],\n",
    "        label ='US',color='magenta') \n",
    "\n",
    "ax.plot(ship[ship['Market']=='LATAM']['Ship_Month'],\n",
    "        ship[ship['Market']=='LATAM']['Shipping Cost'],\n",
    "        label ='LATAM',color='cyan') \n",
    "\n",
    "ax.plot(ship[ship['Market']=='Canada']['Ship_Month'],\n",
    "        ship[ship['Market']=='Canada']['Shipping Cost'],\n",
    "        label ='Canada',color='yellow') \n",
    "ax.set_xticklabels(tick_labels,rotation=90)\n",
    "ax.legend()\n",
    "ax.set_title('Average Shipping Cost per Market')\n",
    "plt.show()"
   ]
  },
  {
   "cell_type": "markdown",
   "id": "4de65f6d",
   "metadata": {},
   "source": [
    "### Conclusion"
   ]
  },
  {
   "cell_type": "markdown",
   "id": "82b94c7b",
   "metadata": {},
   "source": [
    "Generally with everything considered, The company needs to drive sales in the  EMEA, AFRICA and Canada markets.\n",
    "Also, they need to develop the strategy of cross-selling to drive sales in the office supplies category and upsell in the technology and furniture categories in other to increase sales hence profit.\n",
    "Prices of certain consumer products need to be revised in other to drive sales as well as certain item scrapped or stocked in smaller quantities as they incur losses and also are least patronized. Example; Tables, Envelopes, Fasteners etc.\n"
   ]
  },
  {
   "cell_type": "code",
   "execution_count": null,
   "id": "cd7c3f83",
   "metadata": {},
   "outputs": [],
   "source": []
  }
 ],
 "metadata": {
  "kernelspec": {
   "display_name": "Python 3 (ipykernel)",
   "language": "python",
   "name": "python3"
  },
  "language_info": {
   "codemirror_mode": {
    "name": "ipython",
    "version": 3
   },
   "file_extension": ".py",
   "mimetype": "text/x-python",
   "name": "python",
   "nbconvert_exporter": "python",
   "pygments_lexer": "ipython3",
   "version": "3.9.7"
  }
 },
 "nbformat": 4,
 "nbformat_minor": 5
}
